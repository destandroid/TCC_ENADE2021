{
 "cells": [
  {
   "cell_type": "markdown",
   "metadata": {},
   "source": [
    "# ORIENTAÇÕES PARA O IMPORTAÇÃO DOS DADOS\n",
    "Para importar corretamente a base de dados dos Microdados do Enade é necessário considerar os seguintes requisitos:\n",
    "\n",
    "• a importação deve considerar o separador ponto e vírgula (;);\n",
    "\n",
    "• a primeira linha sendo considerada o cabeçalho;\n",
    "\n",
    "• os decimais devem ser importados em formato de ponto (.);\n",
    "\n",
    "• considerar os valores faltantes como aspas duplas (“);\n",
    "\n",
    "• é necessário importar as colunas “DS_VT_ACE_OFG” e “DS_VT_ACE_OCE” como caractere (string)."
   ]
  },
  {
   "cell_type": "markdown",
   "metadata": {},
   "source": [
    "## microdados2021_arq1 \n",
    "Edição, código de curso e caracterização do curso."
   ]
  },
  {
   "cell_type": "markdown",
   "metadata": {},
   "source": [
    "## microdados2021_arq7 - 1 Qual o seu estado civil?"
   ]
  },
  {
   "cell_type": "code",
   "execution_count": 8,
   "metadata": {},
   "outputs": [
    {
     "name": "stdout",
     "output_type": "stream",
     "text": [
      "\n",
      "Contagem dos itens em QE_I01:\n",
      "Solteiro(a)                                250548\n",
      "Casado(a)                                  122006\n",
      "Outro                                       17841\n",
      "Separado(a) judicialmente/divorciado(a)     16721\n",
      "Viúvo(a)                                     1870\n",
      "Name: QE_I01, dtype: int64\n"
     ]
    }
   ],
   "source": [
    "import pandas as pd\n",
    "\n",
    "\n",
    "nome_arquivo_entrada = \"microdados_Enade_2021_LGPD/2.DADOS/microdados2021_arq7.txt\"\n",
    "\n",
    "nome_arquivo_saida = \"saida_teste7.txt\"\n",
    "\n",
    "colunas = [\"NU_ANO\", \"CO_CURSO\", \"QE_I01\"]#coluna do arquivo\n",
    "\n",
    "dados = pd.read_csv(nome_arquivo_entrada, sep=';', decimal='.', na_values='\"', usecols=colunas)#leitura do arquivo\n",
    "\n",
    "mapeamento_qe_i01 = {\n",
    "    \"A\": \"Solteiro(a)\",\n",
    "    \"B\": \"Casado(a)\",\n",
    "    \"C\": \"Separado(a) judicialmente/divorciado(a)\",\n",
    "    \"D\": \"Viúvo(a)\",\n",
    "    \"E\": \"Outro\"\n",
    "}\n",
    "\n",
    "dados[\"QE_I01\"] = dados[\"QE_I01\"].map(mapeamento_qe_i01)\n",
    "\n",
    "contagem_qe_i01 = dados[\"QE_I01\"].value_counts()\n",
    "\n",
    "print(\"\\nContagem dos itens em QE_I01:\")\n",
    "print(contagem_qe_i01)\n",
    "\n",
    "dados.to_csv(nome_arquivo_saida, sep=';', index=False, decimal='.', na_rep='\"')\n"
   ]
  },
  {
   "cell_type": "markdown",
   "metadata": {},
   "source": [
    "## microdados2021_arq8 - 2)Qual é a sua cor ou raça?"
   ]
  },
  {
   "cell_type": "code",
   "execution_count": 9,
   "metadata": {},
   "outputs": [
    {
     "name": "stdout",
     "output_type": "stream",
     "text": [
      "\n",
      "Contagem dos itens em QE_I02:\n",
      "Branca                188287\n",
      "Parda                 154297\n",
      "Preta                  47997\n",
      "Não quero declarar      8682\n",
      "Amarela                 7846\n",
      "Indígena                1877\n",
      "Name: QE_I02, dtype: int64\n"
     ]
    }
   ],
   "source": [
    "import pandas as pd\n",
    "\n",
    "nome_arquivo_entrada = \"microdados_Enade_2021_LGPD/2.DADOS/microdados2021_arq8.txt\"\n",
    "nome_arquivo_saida = \"saida_teste8.txt\"\n",
    "colunas = [\"NU_ANO\", \"CO_CURSO\", \"QE_I02\"]\n",
    "\n",
    "dados = pd.read_csv(nome_arquivo_entrada, sep=';', decimal='.', na_values='\"', usecols=colunas)\n",
    "\n",
    "mapeamento_qe_i02 = {\n",
    "    \"A\": \"Branca\",\n",
    "    \"B\": \"Preta\",\n",
    "    \"C\": \"Amarela\",\n",
    "    \"D\": \"Parda\",\n",
    "    \"E\": \"Indígena\",\n",
    "    \"F\": \"Não quero declarar\"\n",
    "}\n",
    "\n",
    "dados[\"QE_I02\"] = dados[\"QE_I02\"].map(mapeamento_qe_i02)\n",
    "\n",
    "\n",
    "contagem_qe_i02 = dados[\"QE_I02\"].value_counts()\n",
    "\n",
    "print(\"\\nContagem dos itens em QE_I02:\")\n",
    "print(contagem_qe_i02)\n",
    "\n",
    "dados.to_csv(nome_arquivo_saida, sep=';', index=False, decimal='.', na_rep='\"')\n"
   ]
  },
  {
   "cell_type": "markdown",
   "metadata": {},
   "source": [
    "# microdados2021_arq9 \n",
    "QE3: Qual a sua nacionalidade?"
   ]
  },
  {
   "cell_type": "code",
   "execution_count": 10,
   "metadata": {},
   "outputs": [
    {
     "name": "stdout",
     "output_type": "stream",
     "text": [
      "\n",
      "Contagem dos itens em QE_I03:\n",
      "Brasileira                 403872\n",
      "Brasileira naturalizada      4278\n",
      "Estrangeira                   830\n",
      "Name: QE_I03, dtype: int64\n"
     ]
    }
   ],
   "source": [
    "import pandas as pd\n",
    "\n",
    "nome_arquivo_entrada = \"microdados_Enade_2021_LGPD/2.DADOS/microdados2021_arq9.txt\"\n",
    "nome_arquivo_saida = \"saida_teste9.txt\"\n",
    "colunas = [\"NU_ANO\", \"CO_CURSO\", \"QE_I03\"]\n",
    "\n",
    "dados = pd.read_csv(nome_arquivo_entrada, sep=';', decimal='.', na_values='\"', usecols=colunas)\n",
    "\n",
    "dados[\"QE_I03\"] = dados[\"QE_I03\"].astype(str)\n",
    "\n",
    "mapeamento_qe_i03 = {\n",
    "    \"A\": \"Brasileira\",\n",
    "    \"B\": \"Brasileira naturalizada\",\n",
    "    \"C\": \"Estrangeira\"\n",
    "}\n",
    "\n",
    "dados[\"QE_I03\"] = dados[\"QE_I03\"].map(mapeamento_qe_i03)\n",
    "\n",
    "contagem_qe_i03 = dados[\"QE_I03\"].value_counts()\n",
    "\n",
    "print(\"\\nContagem dos itens em QE_I03:\")\n",
    "print(contagem_qe_i03)\n",
    "\n",
    "dados.to_csv(nome_arquivo_saida, sep=';', index=False, decimal='.', na_rep='\"')\n",
    "\n",
    "\n"
   ]
  },
  {
   "cell_type": "markdown",
   "metadata": {},
   "source": [
    "## microdados2021_arq10\n",
    "QE4: Até que etapa de escolarização seu pai concluiu?"
   ]
  },
  {
   "cell_type": "code",
   "execution_count": 11,
   "metadata": {},
   "outputs": [
    {
     "name": "stdout",
     "output_type": "stream",
     "text": [
      "\n",
      "Contagem dos itens em QE_I04:\n",
      "Ensino Fundamental: 1º ao 5º ano (1ª a 4ª série)    140130\n",
      "Ensino Médio                                        109307\n",
      "Ensino Fundamental: 6º ao 9º ano (5ª a 8ª série)     60256\n",
      "Nenhuma                                              43801\n",
      "Ensino Superior - Graduação                          41201\n",
      "Pós-graduação                                        14288\n",
      "Name: QE_I04, dtype: int64\n"
     ]
    }
   ],
   "source": [
    "import pandas as pd\n",
    "\n",
    "nome_arquivo_entrada = \"microdados_Enade_2021_LGPD/2.DADOS/microdados2021_arq10.txt\"\n",
    "nome_arquivo_saida = \"testes_saidas/saida_teste10.txt\"\n",
    "colunas = [\"NU_ANO\", \"CO_CURSO\", \"QE_I04\"]  # Agregamos la columna QE_I04 a las columnas\n",
    "\n",
    "dados = pd.read_csv(nome_arquivo_entrada, sep=';', decimal='.', na_values='\"', usecols=colunas)\n",
    "\n",
    "dados[\"QE_I04\"] = dados[\"QE_I04\"].astype(str)\n",
    "\n",
    "mapeamento_qe_i04 = {\n",
    "    \"A\": \"Nenhuma\",\n",
    "    \"B\": \"Ensino Fundamental: 1º ao 5º ano (1ª a 4ª série)\",\n",
    "    \"C\": \"Ensino Fundamental: 6º ao 9º ano (5ª a 8ª série)\",\n",
    "    \"D\": \"Ensino Médio\",\n",
    "    \"E\": \"Ensino Superior - Graduação\",\n",
    "    \"F\": \"Pós-graduação\"\n",
    "}\n",
    "\n",
    "dados[\"QE_I04\"] = dados[\"QE_I04\"].map(mapeamento_qe_i04)\n",
    "\n",
    "contagem_qe_i04 = dados[\"QE_I04\"].value_counts()\n",
    "\n",
    "print(\"\\nContagem dos itens em QE_I04:\")\n",
    "print(contagem_qe_i04)\n",
    "\n",
    "dados.to_csv(nome_arquivo_saida, sep=';', index=False, decimal='.', na_rep='\"')\n"
   ]
  }
 ],
 "metadata": {
  "kernelspec": {
   "display_name": "Python 3",
   "language": "python",
   "name": "python3"
  },
  "language_info": {
   "codemirror_mode": {
    "name": "ipython",
    "version": 3
   },
   "file_extension": ".py",
   "mimetype": "text/x-python",
   "name": "python",
   "nbconvert_exporter": "python",
   "pygments_lexer": "ipython3",
   "version": "3.7.5"
  },
  "orig_nbformat": 4
 },
 "nbformat": 4,
 "nbformat_minor": 2
}

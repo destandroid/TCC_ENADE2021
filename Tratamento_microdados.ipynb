{
 "cells": [
  {
   "cell_type": "markdown",
   "metadata": {},
   "source": [
    "# ORIENTAÇÕES PARA O IMPORTAÇÃO DOS DADOS\n",
    "Para importar corretamente a base de dados dos Microdados do Enade é necessário considerar os seguintes requisitos:\n",
    "\n",
    "• a importação deve considerar o separador ponto e vírgula (;);\n",
    "\n",
    "• a primeira linha sendo considerada o cabeçalho;\n",
    "\n",
    "• os decimais devem ser importados em formato de ponto (.);\n",
    "\n",
    "• considerar os valores faltantes como aspas duplas (“);\n",
    "\n",
    "• é necessário importar as colunas “DS_VT_ACE_OFG” e “DS_VT_ACE_OCE” como caractere (string)."
   ]
  },
  {
   "cell_type": "markdown",
   "metadata": {},
   "source": [
    "## Formatacao dos microdados\n",
    "Funcao que vai fazer o processo de mapeameto dos microdados, com os seguintes parametros:\n",
    "\n",
    "\n",
    "<arquivo_entrada_m4, arquivo_auxiliar, arquivo_saida, mapeamento_adicional, coluna_qe>"
   ]
  },
  {
   "cell_type": "code",
   "execution_count": 1,
   "metadata": {},
   "outputs": [],
   "source": [
    "import pandas as pd\n",
    "import csv\n",
    "\n",
    "def processar_arquivo(arquivo_entrada, arquivo_auxiliar, arquivo_saida, mapeamento_adicional, coluna_qe):\n",
    "    \n",
    "    dados = pd.read_csv(arquivo_entrada, delimiter=';', encoding='utf-8')\n",
    "    dados_aux = pd.read_csv(arquivo_auxiliar, delimiter=';', encoding='utf-8')\n",
    "\n",
    "    # Mapeamentos do arquivo auxiliar\n",
    "    mapa_curso_nome = dict(zip(dados_aux['CO_CURSO'], dados_aux['NOME_CURSO']))\n",
    "    mapa_curso_co_ies = dict(zip(dados_aux['CO_CURSO'], dados_aux['CO_IES']))\n",
    "    mapa_curso_nome_ies = dict(zip(dados_aux['CO_CURSO'], dados_aux['NOME_IES']))\n",
    "\n",
    "    # Aplicando os mapeamentos do arquivo auxiliar\n",
    "    dados['NOME_CURSO'] = dados['CO_CURSO'].map(mapa_curso_nome)\n",
    "    dados['CO_IES'] = dados['CO_CURSO'].map(mapa_curso_co_ies)\n",
    "    dados['NOME_IES'] = dados['CO_CURSO'].map(mapa_curso_nome_ies)\n",
    "\n",
    "    # Aplicando mapeamento QE_iXY \n",
    "    if coluna_qe in dados.columns:\n",
    "        dados[coluna_qe] = dados[coluna_qe].map(mapeamento_adicional)\n",
    "\n",
    "    nova_ordem = ['NU_ANO', 'CO_CURSO', 'NOME_CURSO', 'CO_IES', 'NOME_IES', coluna_qe]\n",
    "    dados = dados[nova_ordem]\n",
    "\n",
    "    dados.to_csv(arquivo_saida, sep=';', index=False, quoting=csv.QUOTE_NONNUMERIC, quotechar='\"')\n",
    "    print(f\"Arquivo gerado com sucesso no diretorio '{arquivo_saida}'\")\n"
   ]
  },
  {
   "cell_type": "markdown",
   "metadata": {},
   "source": [
    "## Criacao da pasta \n",
    "Vai ser criada uma pasta onde vai ser o destino dos microdados processados."
   ]
  },
  {
   "cell_type": "code",
   "execution_count": 2,
   "metadata": {},
   "outputs": [
    {
     "name": "stdout",
     "output_type": "stream",
     "text": [
      "A pasta 'microdados_tratados' já existe.\n"
     ]
    }
   ],
   "source": [
    "import os\n",
    "dir_destino = \"microdados_tratados\"\n",
    "\n",
    "try:\n",
    "    os.makedirs(dir_destino)\n",
    "    print(f\"Pasta '{dir_destino}' criada com sucesso.\")\n",
    "except FileExistsError:\n",
    "    print(f\"A pasta '{dir_destino}' já existe.\")\n"
   ]
  },
  {
   "cell_type": "markdown",
   "metadata": {},
   "source": [
    "## microdados2021_arq1 \n",
    "Edição, código de curso e caracterização do curso."
   ]
  },
  {
   "cell_type": "markdown",
   "metadata": {},
   "source": [
    "## microdados2021_arq5 \n",
    "Edição, código de curso e sexo"
   ]
  },
  {
   "cell_type": "code",
   "execution_count": 3,
   "metadata": {},
   "outputs": [
    {
     "name": "stdout",
     "output_type": "stream",
     "text": [
      "Arquivo gerado com sucesso no diretorio 'microdados_tratados/form_microdados_arq5.csv'\n"
     ]
    }
   ],
   "source": [
    "mapeamento_tp_sexo = {\n",
    "    \"M\": \"Masculino\",\n",
    "    \"F\": \"Feminino\"\n",
    "}\n",
    "\n",
    "processar_arquivo(\n",
    "    'microdados_Enade_2021_LGPD/2.DADOS/microdados2021_arq5.txt',   #arquivo_entrada\n",
    "    'aux_files/vetores/microdados_aux.csv',                         #arquivo_auxiliar para o mapeamento do CO_CURSO\n",
    "    f'{dir_destino}/form_microdados_arq5.csv',                     #arquivo_saida\n",
    "    mapeamento_tp_sexo,                                              #mapeamento\n",
    "    'TP_SEXO'                                                        #cabecalho coluna\n",
    ")\n"
   ]
  },
  {
   "cell_type": "markdown",
   "metadata": {},
   "source": [
    "## microdados2021_arq6 \n",
    "Idade quando fez a prova"
   ]
  },
  {
   "cell_type": "code",
   "execution_count": 11,
   "metadata": {},
   "outputs": [
    {
     "name": "stdout",
     "output_type": "stream",
     "text": [
      "Arquivo gerado com sucesso no diretorio 'microdados_tratados/form_microdados_arq6.csv'\n"
     ]
    }
   ],
   "source": [
    "mapeamento_idade = {i: i for i in range(7, 90)}\n",
    "\n",
    "processar_arquivo(\n",
    "    'microdados_Enade_2021_LGPD/2.DADOS/microdados2021_arq6.txt',   #arquivo_entrada\n",
    "    'aux_files/vetores/microdados_aux.csv',                         #arquivo_auxiliar para o mapeamento do CO_CURSO\n",
    "    f'{dir_destino}/form_microdados_arq6.csv',                     #arquivo_saida\n",
    "    mapeamento_idade,                                              #mapeamento\n",
    "    'NU_IDADE'                                                        #cabecalho coluna\n",
    ")\n"
   ]
  },
  {
   "cell_type": "markdown",
   "metadata": {},
   "source": [
    "## microdados2021_arq7 \n",
    "QE1: Qual o seu estado civil?"
   ]
  },
  {
   "cell_type": "code",
   "execution_count": 10,
   "metadata": {},
   "outputs": [
    {
     "name": "stdout",
     "output_type": "stream",
     "text": [
      "Arquivo gerado com sucesso no diretorio 'microdados_tratados/form_microdados_arq7.csv'\n"
     ]
    }
   ],
   "source": [
    "mapeamento_qe_i01 = {\n",
    "    \"A\": \"Solteiro(a)\",\n",
    "    \"B\": \"Casado(a)\",\n",
    "    \"C\": \"Separado(a) judicialmente/divorciado(a)\",\n",
    "    \"D\": \"Viúvo(a)\",\n",
    "    \"E\": \"Outro\"\n",
    "}\n",
    "\n",
    "processar_arquivo(\n",
    "    'microdados_Enade_2021_LGPD/2.DADOS/microdados2021_arq7.txt',   #arquivo_entrada\n",
    "    'aux_files/vetores/microdados_aux.csv',                         #arquivo_auxiliar para o mapeamento do CO_CURSO\n",
    "    f'{dir_destino}/form_microdados_arq7.csv',                     #arquivo_saida\n",
    "    mapeamento_qe_i01,                                              #mapeamento\n",
    "    'QE_I01'                                                        #cabecalho coluna\n",
    ")\n"
   ]
  },
  {
   "cell_type": "markdown",
   "metadata": {},
   "source": [
    "## microdados2021_arq8\n",
    "QE2: Qual é a sua cor ou raça?"
   ]
  },
  {
   "cell_type": "code",
   "execution_count": 11,
   "metadata": {},
   "outputs": [
    {
     "name": "stdout",
     "output_type": "stream",
     "text": [
      "Arquivo gerado com sucesso no diretorio 'microdados_tratados/form_microdados_arq8.csv'\n"
     ]
    }
   ],
   "source": [
    "mapeamento_qe_i02 = {\n",
    "    \"A\": \"Branca\",\n",
    "    \"B\": \"Preta\",\n",
    "    \"C\": \"Amarela\",\n",
    "    \"D\": \"Parda\",\n",
    "    \"E\": \"Indígena\",\n",
    "    \"F\": \"Não quero declarar\"\n",
    "}\n",
    "\n",
    "processar_arquivo(\n",
    "    'microdados_Enade_2021_LGPD/2.DADOS/microdados2021_arq8.txt',   #arquivo_entrada\n",
    "    'aux_files/vetores/microdados_aux.csv',                         #arquivo_auxiliar para o mapeamento do CO_CURSO\n",
    "    f'{dir_destino}/form_microdados_arq8.csv',                     #arquivo_saida\n",
    "    mapeamento_qe_i02,                                              #mapeamento\n",
    "    'QE_I02'                                                        #cabecalho coluna\n",
    ")\n",
    "\n"
   ]
  },
  {
   "cell_type": "markdown",
   "metadata": {},
   "source": [
    "## microdados2021_arq9 \n",
    "QE3: Qual a sua nacionalidade?"
   ]
  },
  {
   "cell_type": "code",
   "execution_count": 12,
   "metadata": {},
   "outputs": [
    {
     "name": "stdout",
     "output_type": "stream",
     "text": [
      "Arquivo gerado com sucesso no diretorio 'microdados_tratados/form_microdados_arq9.csv'\n"
     ]
    }
   ],
   "source": [
    "mapeamento_qe_i03 = {\n",
    "        \"A\": \"Brasileira\",\n",
    "        \"B\": \"Brasileira naturalizada\",\n",
    "        \"C\": \"Estrangeira\"\n",
    "    }\n",
    "\n",
    "processar_arquivo(\n",
    "    'microdados_Enade_2021_LGPD/2.DADOS/microdados2021_arq9.txt',   #arquivo_entrada\n",
    "    'aux_files/vetores/microdados_aux.csv',                         #arquivo_auxiliar para o mapeamento do CO_CURSO\n",
    "    f'{dir_destino}/form_microdados_arq9.csv',                     #arquivo_saida\n",
    "    mapeamento_qe_i03,                                              #mapeamento\n",
    "    'QE_I03'                                                        #cabecalho coluna\n",
    ")\n"
   ]
  },
  {
   "cell_type": "markdown",
   "metadata": {},
   "source": [
    "## microdados2021_arq10\n",
    "QE4: Até que etapa de escolarização seu pai concluiu?"
   ]
  },
  {
   "cell_type": "code",
   "execution_count": 13,
   "metadata": {},
   "outputs": [
    {
     "name": "stdout",
     "output_type": "stream",
     "text": [
      "Arquivo gerado com sucesso no diretorio 'microdados_tratados/form_microdados_arq10.csv'\n"
     ]
    }
   ],
   "source": [
    "mapeamento_qe_i04 = {\n",
    "        \"A\": \"Nenhuma\",\n",
    "        \"B\": \"Ensino Fundamental: 1º ao 5º ano (1ª a 4ª série)\",\n",
    "        \"C\": \"Ensino Fundamental: 6º ao 9º ano (5ª a 8ª série)\",\n",
    "        \"D\": \"Ensino Médio\",\n",
    "        \"E\": \"Ensino Superior - Graduação\",\n",
    "        \"F\": \"Pós-graduação\"\n",
    "    }\n",
    "\n",
    "processar_arquivo(\n",
    "    'microdados_Enade_2021_LGPD/2.DADOS/microdados2021_arq10.txt',  #arquivo_entrada\n",
    "    'aux_files/vetores/microdados_aux.csv',                         #arquivo_auxiliar para o mapeamento do CO_CURSO\n",
    "    f'{dir_destino}/form_microdados_arq10.csv',                    #arquivo_saida\n",
    "    mapeamento_qe_i04,                                              #mapeamento\n",
    "    'QE_I04'                                                        #cabecalho coluna\n",
    ")\n"
   ]
  },
  {
   "cell_type": "markdown",
   "metadata": {},
   "source": [
    "## microdados2021_arq11\n",
    "QE5: Até que etapa de escolarização sua mãe concluiu?"
   ]
  },
  {
   "cell_type": "code",
   "execution_count": 14,
   "metadata": {},
   "outputs": [
    {
     "name": "stdout",
     "output_type": "stream",
     "text": [
      "Arquivo gerado com sucesso no diretorio 'microdados_tratados/form_microdados_arq11.csv'\n"
     ]
    }
   ],
   "source": [
    "mapeamento_qe_i05 = {\n",
    "        \"A\": \"Nenhuma\",\n",
    "        \"B\": \"Ensino Fundamental: 1º ao 5º ano (1ª a 4ª série)\",\n",
    "        \"C\": \"Ensino Fundamental: 6º ao 9º ano (5ª a 8ª série)\",\n",
    "        \"D\": \"Ensino Médio\",\n",
    "        \"E\": \"Ensino Superior - Graduação\",\n",
    "        \"F\": \"Pós-graduação\"\n",
    "    }\n",
    "\n",
    "processar_arquivo(\n",
    "    'microdados_Enade_2021_LGPD/2.DADOS/microdados2021_arq11.txt',  #arquivo_entrada\n",
    "    'aux_files/vetores/microdados_aux.csv',                         #arquivo_auxiliar para o mapeamento do CO_CURSO\n",
    "    f'{dir_destino}/form_microdados_arq11.csv',                    #arquivo_saida\n",
    "    mapeamento_qe_i05,                                              #mapeamento\n",
    "    'QE_I05'                                                        #cabecalho coluna\n",
    ")\n"
   ]
  },
  {
   "cell_type": "markdown",
   "metadata": {},
   "source": [
    "## microdados2021_arq12\n",
    "QE6: Onde e com quem você mora atualmente?"
   ]
  },
  {
   "cell_type": "code",
   "execution_count": 15,
   "metadata": {},
   "outputs": [
    {
     "name": "stdout",
     "output_type": "stream",
     "text": [
      "Arquivo gerado com sucesso no diretorio 'microdados_tratados/form_microdados_arq12.csv'\n"
     ]
    }
   ],
   "source": [
    "mapeamento_qe_i06 = {\n",
    "        \"A\": \"Em casa ou apartamento, sozinho\",\n",
    "        \"B\": \"Em casa ou apartamento, com pais e/ou parentes\",\n",
    "        \"C\": \"Em casa ou apartamento, com cônjuge e/ou filhos\",\n",
    "        \"D\": \"Em casa ou apartamento, com outras pessoas (incluindo república)\",\n",
    "        \"E\": \"Em alojamento universitário da própria instituição\",\n",
    "        \"F\": \"Em outros tipos de habitação individual ou coletiva (hotel, hospedaria, pensão ou outro)\"\n",
    "    }\n",
    "\n",
    "processar_arquivo(\n",
    "    'microdados_Enade_2021_LGPD/2.DADOS/microdados2021_arq12.txt',  #arquivo_entrada\n",
    "    'aux_files/vetores/microdados_aux.csv',                         #arquivo_auxiliar para o mapeamento do CO_CURSO\n",
    "    f'{dir_destino}/form_microdados_arq12.csv',                    #arquivo_saida\n",
    "    mapeamento_qe_i06,                                              #mapeamento\n",
    "    'QE_I06'                                                        #cabecalho coluna\n",
    ")\n"
   ]
  },
  {
   "cell_type": "markdown",
   "metadata": {},
   "source": [
    "## microdados2021_arq13\n",
    "QE7: Quantas pessoas da sua família moram com você? Considere seus pais, irmãos, cônjuge, filhos e outros parentes que moram na mesma casa com você."
   ]
  },
  {
   "cell_type": "code",
   "execution_count": 16,
   "metadata": {},
   "outputs": [
    {
     "name": "stdout",
     "output_type": "stream",
     "text": [
      "Arquivo gerado com sucesso no diretorio 'microdados_tratados/form_microdados_arq13.csv'\n"
     ]
    }
   ],
   "source": [
    "mapeamento_qe_i07 = {\n",
    "        \"A\": \"Nenhuma\",\n",
    "        \"B\": \"Uma\",\n",
    "        \"C\": \"Duas\",\n",
    "        \"D\": \"Três\",\n",
    "        \"E\": \"Quatro\",\n",
    "        \"F\": \"Cinco\",\n",
    "        \"G\": \"Seis\",\n",
    "        \"H\": \"Sete ou mais\"\n",
    "    }\n",
    "\n",
    "processar_arquivo(\n",
    "    'microdados_Enade_2021_LGPD/2.DADOS/microdados2021_arq13.txt',  #arquivo_entrada\n",
    "    'aux_files/vetores/microdados_aux.csv',                         #arquivo_auxiliar para o mapeamento do CO_CURSO\n",
    "    f'{dir_destino}/form_microdados_arq13.csv',                    #arquivo_saida\n",
    "    mapeamento_qe_i07,                                              #mapeamento\n",
    "    'QE_I07'                                                        #cabecalho coluna\n",
    ")\n"
   ]
  },
  {
   "cell_type": "markdown",
   "metadata": {},
   "source": [
    "## microdados2021_arq14\n",
    "QE8: Qual a renda total de sua família, incluindo seus rendimentos?"
   ]
  },
  {
   "cell_type": "code",
   "execution_count": 17,
   "metadata": {},
   "outputs": [
    {
     "name": "stdout",
     "output_type": "stream",
     "text": [
      "Arquivo gerado com sucesso no diretorio 'microdados_tratados/form_microdados_arq14.csv'\n"
     ]
    }
   ],
   "source": [
    "mapeamento_qe_i08 = {\n",
    "        \"A\": \"Até 1,5 salário mínimo (até R$ 1.650,00)\",\n",
    "        \"B\": \"De 1,5 a 3 salários mínimos (R$ 1.650,01 a R$ 3.300,00)\",\n",
    "        \"C\": \"De 3 a 4,5 salários mínimos (R$ 3.300,01 a R$ 4.950,00)\",\n",
    "        \"D\": \"De 4,5 a 6 salários mínimos (R$ 4.950,01 a R$ 6.600,00)\",\n",
    "        \"E\": \"De 6 a 10 salários mínimos (R$ 6.600,01 a R$ 11.000,00)\",\n",
    "        \"F\": \"De 10 a 30 salários mínimos (R$ 11.000,01 a R$ 33.000,00)\",\n",
    "        \"G\": \"Acima de 30 salários mínimos (mais de R$ 33.000,00)\"\n",
    "    }\n",
    "\n",
    "processar_arquivo(\n",
    "    'microdados_Enade_2021_LGPD/2.DADOS/microdados2021_arq14.txt',  #arquivo_entrada\n",
    "    'aux_files/vetores/microdados_aux.csv',                         #arquivo_auxiliar para o mapeamento do CO_CURSO\n",
    "    f'{dir_destino}/form_microdados_arq14.csv',                    #arquivo_saida\n",
    "    mapeamento_qe_i08,                                              #mapeamento\n",
    "    'QE_I08'                                                        #cabecalho coluna\n",
    ")\n"
   ]
  },
  {
   "cell_type": "markdown",
   "metadata": {},
   "source": [
    "## microdados2021_arq15\n",
    "QE9: Qual alternativa a seguir melhor descreve sua situação financeira (incluindo bolsas)?"
   ]
  },
  {
   "cell_type": "code",
   "execution_count": 18,
   "metadata": {},
   "outputs": [
    {
     "name": "stdout",
     "output_type": "stream",
     "text": [
      "Arquivo gerado com sucesso no diretorio 'microdados_tratados/form_microdados_arq15.csv'\n"
     ]
    }
   ],
   "source": [
    "mapeamento_qe_i09 = {\n",
    "        \"A\": \"Não tenho renda e meus gastos são financiados por programas governamentais\",\n",
    "        \"B\": \"Não tenho renda e meus gastos são financiados pela minha família ou por outras pessoas\",\n",
    "        \"C\": \"Tenho renda, mas recebo ajuda da família ou de outras pessoas para financiar meus gastos\",\n",
    "        \"D\": \"Tenho renda e não preciso de ajuda para financiar meus gastos\",\n",
    "        \"E\": \"Tenho renda e contribuo com o sustento da família\",\n",
    "        \"F\": \"Sou o principal responsável pelo sustento da família\"\n",
    "    }\n",
    "\n",
    "processar_arquivo(\n",
    "    'microdados_Enade_2021_LGPD/2.DADOS/microdados2021_arq15.txt',  #arquivo_entrada\n",
    "    'aux_files/vetores/microdados_aux.csv',                         #arquivo_auxiliar para o mapeamento do CO_CURSO\n",
    "    f'{dir_destino}/form_microdados_arq15.csv',                    #arquivo_saida\n",
    "    mapeamento_qe_i09,                                              #mapeamento\n",
    "    'QE_I09'                                                        #cabecalho coluna\n",
    ")\n"
   ]
  },
  {
   "cell_type": "markdown",
   "metadata": {},
   "source": [
    "## microdados2021_arq16\n",
    "QE10: Qual alternativa a seguir melhor descreve sua situação de trabalho (exceto estágio ou bolsas)?"
   ]
  },
  {
   "cell_type": "code",
   "execution_count": 19,
   "metadata": {},
   "outputs": [
    {
     "name": "stdout",
     "output_type": "stream",
     "text": [
      "Arquivo gerado com sucesso no diretorio 'microdados_tratados/form_microdados_arq16.csv'\n"
     ]
    }
   ],
   "source": [
    "mapeamento_qe_i10 = {\n",
    "        \"A\": \"Não estou trabalhando\",\n",
    "        \"B\": \"Trabalho eventualmente\",\n",
    "        \"C\": \"Trabalho até 20 horas semanais\",\n",
    "        \"D\": \"Trabalho de 21 a 39 horas semanais\",\n",
    "        \"E\": \"Trabalho 40 horas semanais ou mais\"\n",
    "    }\n",
    "\n",
    "processar_arquivo(\n",
    "    'microdados_Enade_2021_LGPD/2.DADOS/microdados2021_arq16.txt',  #arquivo_entrada\n",
    "    'aux_files/vetores/microdados_aux.csv',                         #arquivo_auxiliar para o mapeamento do CO_CURSO\n",
    "    f'{dir_destino}/form_microdados_arq16.csv',                    #arquivo_saida\n",
    "    mapeamento_qe_i10,                                              #mapeamento\n",
    "    'QE_I10'                                                        #cabecalho coluna\n",
    ")\n"
   ]
  },
  {
   "cell_type": "markdown",
   "metadata": {},
   "source": [
    "## microdados2021_arq17\n",
    "QE11: Que tipo de bolsa de estudos ou financiamento do curso você recebeu para custear todas ou a maior parte das mensalidades? No caso de haver mais de uma opção, marcar apenas a bolsa de maior duração."
   ]
  },
  {
   "cell_type": "code",
   "execution_count": 20,
   "metadata": {},
   "outputs": [
    {
     "name": "stdout",
     "output_type": "stream",
     "text": [
      "Arquivo gerado com sucesso no diretorio 'microdados_tratados/form_microdados_arq17.csv'\n"
     ]
    }
   ],
   "source": [
    "mapeamento_qe_i11 = {\n",
    "        \"A\": \"Nenhum, pois meu curso é gratuito\",\n",
    "        \"B\": \"Nenhum, embora meu curso não seja gratuito\",\n",
    "        \"C\": \"ProUni integral\",\n",
    "        \"D\": \"ProUni parcial, apenas\",\n",
    "        \"E\": \"FIES, apenas\",\n",
    "        \"F\": \"ProUni Parcial e FIES\",\n",
    "        \"G\": \"Bolsa oferecida por governo estadual, distrital ou municipal\",\n",
    "        \"H\": \"Bolsa oferecida pela própria instituição\",\n",
    "        \"I\": \"Bolsa oferecida por outra entidade (empresa, ONG, outra)\",\n",
    "        \"J\": \"Financiamento oferecido pela própria instituição\",\n",
    "        \"K\": \"Financiamento bancário\"\n",
    "    }\n",
    "\n",
    "processar_arquivo(\n",
    "    'microdados_Enade_2021_LGPD/2.DADOS/microdados2021_arq17.txt',  #arquivo_entrada\n",
    "    'aux_files/vetores/microdados_aux.csv',                         #arquivo_auxiliar para o mapeamento do CO_CURSO\n",
    "    f'{dir_destino}/form_microdados_arq17.csv',                    #arquivo_saida\n",
    "    mapeamento_qe_i11,                                              #mapeamento\n",
    "    'QE_I11'                                                        #cabecalho coluna\n",
    ")\n"
   ]
  },
  {
   "cell_type": "markdown",
   "metadata": {},
   "source": [
    "## microdados2021_arq18\n",
    "QE12: Ao longo da sua trajetória acadêmica, você recebeu algum tipo de auxílio permanência? No caso de haver mais de uma opção, marcar apenas a bolsa de maior duração."
   ]
  },
  {
   "cell_type": "code",
   "execution_count": 21,
   "metadata": {},
   "outputs": [
    {
     "name": "stdout",
     "output_type": "stream",
     "text": [
      "Arquivo gerado com sucesso no diretorio 'microdados_tratados/form_microdados_arq18.csv'\n"
     ]
    }
   ],
   "source": [
    "mapeamento_qe_i12 = {\n",
    "        \"A\": \"Nenhum\",\n",
    "        \"B\": \"Auxílio moradia\",\n",
    "        \"C\": \"Auxílio alimentação\",\n",
    "        \"D\": \"Auxílio moradia e alimentação\",\n",
    "        \"E\": \"Auxílio Permanência\",\n",
    "        \"F\": \"Outro tipo de auxílio\"\n",
    "    }\n",
    "processar_arquivo(\n",
    "    'microdados_Enade_2021_LGPD/2.DADOS/microdados2021_arq18.txt',  #arquivo_entrada\n",
    "    'aux_files/vetores/microdados_aux.csv',                         #arquivo_auxiliar para o mapeamento do CO_CURSO\n",
    "    f'{dir_destino}/form_microdados_arq18.csv',                    #arquivo_saida\n",
    "    mapeamento_qe_i12,                                              #mapeamento\n",
    "    'QE_I12'                                                        #cabecalho coluna\n",
    ")\n"
   ]
  },
  {
   "cell_type": "markdown",
   "metadata": {},
   "source": [
    "## microdados2021_arq19\n",
    "QE 13: Ao longo da sua trajetória acadêmica, você recebeu algum tipo de bolsa acadêmica? No caso de haver mais de uma opção, marcar apenas a bolsa de maior duração."
   ]
  },
  {
   "cell_type": "code",
   "execution_count": 22,
   "metadata": {},
   "outputs": [
    {
     "name": "stdout",
     "output_type": "stream",
     "text": [
      "Arquivo gerado com sucesso no diretorio 'microdados_tratados/form_microdados_arq19.csv'\n"
     ]
    }
   ],
   "source": [
    "mapeamento_qe_i13 = {\n",
    "        \"A\": \"Nenhum\",\n",
    "        \"B\": \"Bolsa de iniciação científica\",\n",
    "        \"C\": \"Bolsa de extensão\",\n",
    "        \"D\": \"Bolsa de monitoria/tutoria\",\n",
    "        \"E\": \"Bolsa PET\",\n",
    "        \"F\": \"Outro tipo de bolsa acadêmica\"\n",
    "    }\n",
    "processar_arquivo(\n",
    "    'microdados_Enade_2021_LGPD/2.DADOS/microdados2021_arq19.txt',  #arquivo_entrada\n",
    "    'aux_files/vetores/microdados_aux.csv',                         #arquivo_auxiliar para o mapeamento do CO_CURSO\n",
    "    f'{dir_destino}/form_microdados_arq19.csv',                    #arquivo_saida\n",
    "    mapeamento_qe_i13,                                              #mapeamento\n",
    "    'QE_I13'                                                        #cabecalho coluna\n",
    ")\n"
   ]
  },
  {
   "cell_type": "markdown",
   "metadata": {},
   "source": [
    "## microdados2021_arq20\n",
    "QE14: Durante o curso de graduação você participou de programas e/ou atividades curriculares no exterior?"
   ]
  },
  {
   "cell_type": "code",
   "execution_count": 23,
   "metadata": {},
   "outputs": [
    {
     "name": "stdout",
     "output_type": "stream",
     "text": [
      "Arquivo gerado com sucesso no diretorio 'microdados_tratados/form_microdados_arq20.csv'\n"
     ]
    }
   ],
   "source": [
    "mapeamento_qe_i14 = {\n",
    "        \"A\": \"Não participei\",\n",
    "        \"B\": \"Sim, Programa Ciência sem Fronteiras\",\n",
    "        \"C\": \"Sim, programa de intercâmbio financiado pelo Governo Federal (Marca; Brafitec; PLI; outro)\",\n",
    "        \"D\": \"Sim, programa de intercâmbio financiado pelo Governo Estadual\",\n",
    "        \"E\": \"Sim, programa de intercâmbio da minha instituição\",\n",
    "        \"F\": \"Sim, outro intercâmbio não institucional\"\n",
    "    }\n",
    "processar_arquivo(\n",
    "    'microdados_Enade_2021_LGPD/2.DADOS/microdados2021_arq20.txt',  #arquivo_entrada\n",
    "    'aux_files/vetores/microdados_aux.csv',                         #arquivo_auxiliar para o mapeamento do CO_CURSO\n",
    "    f'{dir_destino}/form_microdados_arq20.csv',                    #arquivo_saida\n",
    "    mapeamento_qe_i14,                                              #mapeamento\n",
    "    'QE_I14'                                                        #cabecalho coluna\n",
    ")\n"
   ]
  },
  {
   "cell_type": "markdown",
   "metadata": {},
   "source": [
    "## microdados2021_arq21\n",
    "QE15: Seu ingresso no curso de graduação se deu por meio de políticas de ação afirmativa ou inclusão social?"
   ]
  },
  {
   "cell_type": "code",
   "execution_count": 24,
   "metadata": {},
   "outputs": [
    {
     "name": "stdout",
     "output_type": "stream",
     "text": [
      "Arquivo gerado com sucesso no diretorio 'microdados_tratados/form_microdados_arq21.csv'\n"
     ]
    }
   ],
   "source": [
    "mapeamento_qe_i15 = {\n",
    "        \"A\": \"Não\",\n",
    "        \"B\": \"Sim, por critério étnico-racial\",\n",
    "        \"C\": \"Sim, por critério de renda\",\n",
    "        \"D\": \"Sim, por ter estudado em escola pública ou particular com bolsa de estudos\",\n",
    "        \"E\": \"Sim, por sistema que combina dois ou mais critérios anteriores\",\n",
    "        \"F\": \"Sim, por sistema diferente dos anteriores\"\n",
    "    }\n",
    "\n",
    "processar_arquivo(\n",
    "    'microdados_Enade_2021_LGPD/2.DADOS/microdados2021_arq21.txt',  #arquivo_entrada\n",
    "    'aux_files/vetores/microdados_aux.csv',                         #arquivo_auxiliar para o mapeamento do CO_CURSO\n",
    "    f'{dir_destino}/form_microdados_arq21.csv',                    #arquivo_saida\n",
    "    mapeamento_qe_i15,                                              #mapeamento\n",
    "    'QE_I15'                                                        #cabecalho coluna\n",
    ")\n"
   ]
  },
  {
   "cell_type": "markdown",
   "metadata": {},
   "source": [
    "## microdados2021_arq22\n",
    "QE16: Em que unidade da Federação você concluiu o ensino médio?"
   ]
  },
  {
   "cell_type": "code",
   "execution_count": 25,
   "metadata": {},
   "outputs": [
    {
     "name": "stdout",
     "output_type": "stream",
     "text": [
      "Arquivo gerado com sucesso no diretorio 'microdados_tratados/form_microdados_arq22.csv'\n"
     ]
    }
   ],
   "source": [
    "mapeamento_qe_i16 = {\n",
    "        11: \"Rondônia (RO)\",\n",
    "        12: \"Acre (AC)\",\n",
    "        13: \"Amazonas (AM)\",\n",
    "        14: \"Roraima (RR)\",\n",
    "        15: \"Pará (PA)\",\n",
    "        16: \"Amapá (AP)\",\n",
    "        17: \"Tocantins (TO)\",\n",
    "        21: \"Maranhão (MA)\",\n",
    "        22: \"Piauí (PI)\",\n",
    "        23: \"Ceará (CE)\",\n",
    "        24: \"Rio Grande do Norte (RN)\",\n",
    "        25: \"Paraíba (PB)\",\n",
    "        26: \"Pernambuco (PE)\",\n",
    "        27: \"Alagoas (AL)\",\n",
    "        28: \"Sergipe (SE)\",\n",
    "        29: \"Bahia (BA)\",\n",
    "        31: \"Minas Gerais (MG)\",\n",
    "        32: \"Espírito Santo (ES)\",\n",
    "        33: \"Rio de Janeiro (RJ)\",\n",
    "        35: \"São Paulo (SP)\",\n",
    "        41: \"Paraná (PR)\",\n",
    "        42: \"Santa Catarina (SC)\",\n",
    "        43: \"Rio Grande do Sul (RS)\",\n",
    "        50: \"Mato Grosso do Sul (MS)\",\n",
    "        51: \"Mato Grosso (MT)\",\n",
    "        52: \"Goiás (GO)\",\n",
    "        53: \"Distrito Federal (DF)\",\n",
    "        99: \"Não se aplica\"\n",
    "    }\n",
    "\n",
    "processar_arquivo(\n",
    "    'microdados_Enade_2021_LGPD/2.DADOS/microdados2021_arq22.txt',  #arquivo_entrada\n",
    "    'aux_files/vetores/microdados_aux.csv',                         #arquivo_auxiliar para o mapeamento do CO_CURSO\n",
    "    f'{dir_destino}/form_microdados_arq22.csv',                    #arquivo_saida\n",
    "    mapeamento_qe_i16,                                              #mapeamento\n",
    "    'QE_I16'                                                        #cabecalho coluna\n",
    ")\n"
   ]
  },
  {
   "cell_type": "markdown",
   "metadata": {},
   "source": [
    "## microdados2021_arq23\n",
    "QE17: Em que tipo de escola você cursou o ensino médio?"
   ]
  },
  {
   "cell_type": "code",
   "execution_count": 26,
   "metadata": {},
   "outputs": [
    {
     "name": "stdout",
     "output_type": "stream",
     "text": [
      "Arquivo gerado com sucesso no diretorio 'microdados_tratados/form_microdados_arq23.csv'\n"
     ]
    }
   ],
   "source": [
    "mapeamento_qe_i17 = {\n",
    "        \"A\": \"Todo em escola pública\",\n",
    "        \"B\": \"Todo em escola privada (particular)\",\n",
    "        \"C\": \"Todo no exterior\",\n",
    "        \"D\": \"A maior parte em escola pública\",\n",
    "        \"E\": \"A maior parte em escola privada (particular)\",\n",
    "        \"F\": \"Parte no Brasil e parte no exterior\"\n",
    "    }\n",
    "\n",
    "processar_arquivo(\n",
    "    'microdados_Enade_2021_LGPD/2.DADOS/microdados2021_arq23.txt',  #arquivo_entrada\n",
    "    'aux_files/vetores/microdados_aux.csv',                         #arquivo_auxiliar para o mapeamento do CO_CURSO\n",
    "    f'{dir_destino}/form_microdados_arq23.csv',                    #arquivo_saida\n",
    "    mapeamento_qe_i17,                                              #mapeamento\n",
    "    'QE_I17'                                                        #cabecalho coluna\n",
    ")\n"
   ]
  },
  {
   "cell_type": "markdown",
   "metadata": {},
   "source": [
    "## microdados2021_arq24\n",
    "QE18: Qual modalidade de ensino médio você concluiu?"
   ]
  },
  {
   "cell_type": "code",
   "execution_count": 27,
   "metadata": {},
   "outputs": [
    {
     "name": "stdout",
     "output_type": "stream",
     "text": [
      "Arquivo gerado com sucesso no diretorio 'microdados_tratados/form_microdados_arq24.csv'\n"
     ]
    }
   ],
   "source": [
    "mapeamento_qe_i18 = {\n",
    "        \"A\": \"Ensino médio tradicional\",\n",
    "        \"B\": \"Profissionalizante técnico (eletrônica, contabilidade, agrícola, outro)\",\n",
    "        \"C\": \"Profissionalizante magistério (Curso Normal)\",\n",
    "        \"D\": \"Educação de Jovens e Adultos (EJA) e/ou Supletivo\",\n",
    "        \"E\": \"Outra modalidade\"\n",
    "    }\n",
    "\n",
    "processar_arquivo(\n",
    "    'microdados_Enade_2021_LGPD/2.DADOS/microdados2021_arq24.txt',  #arquivo_entrada\n",
    "    'aux_files/vetores/microdados_aux.csv',                         #arquivo_auxiliar para o mapeamento do CO_CURSO\n",
    "    f'{dir_destino}/form_microdados_arq24.csv',                    #arquivo_saida\n",
    "    mapeamento_qe_i18,                                              #mapeamento\n",
    "    'QE_I18'                                                        #cabecalho coluna\n",
    ")\n"
   ]
  },
  {
   "cell_type": "markdown",
   "metadata": {},
   "source": [
    "## microdados2021_arq25\n",
    "QE19: Quem lhe deu maior incentivo para cursar a graduação?"
   ]
  },
  {
   "cell_type": "code",
   "execution_count": 28,
   "metadata": {},
   "outputs": [
    {
     "name": "stdout",
     "output_type": "stream",
     "text": [
      "Arquivo gerado com sucesso no diretorio 'microdados_tratados/form_microdados_arq25.csv'\n"
     ]
    }
   ],
   "source": [
    "mapeamento_qe_i19 = {\n",
    "        \"A\": \"Ninguém\",\n",
    "        \"B\": \"Pais\",\n",
    "        \"C\": \"Outros membros da família que não os pais\",\n",
    "        \"D\": \"Professores\",\n",
    "        \"E\": \"Líder ou representante religioso\",\n",
    "        \"F\": \"Colegas/Amigos\",\n",
    "        \"G\": \"Outras pessoas\"\n",
    "    }\n",
    "\n",
    "processar_arquivo(\n",
    "    'microdados_Enade_2021_LGPD/2.DADOS/microdados2021_arq25.txt',  #arquivo_entrada\n",
    "    'aux_files/vetores/microdados_aux.csv',                         #arquivo_auxiliar para o mapeamento do CO_CURSO\n",
    "    f'{dir_destino}/form_microdados_arq25.csv',                    #arquivo_saida\n",
    "    mapeamento_qe_i19,                                              #mapeamento\n",
    "    'QE_I19'                                                        #cabecalho coluna\n",
    ")\n"
   ]
  },
  {
   "cell_type": "markdown",
   "metadata": {},
   "source": [
    "## microdados2021_arq26\n",
    "QE20: Algum dos grupos abaixo foi determinante para você enfrentar dificuldades durante seu curso superior e concluí-lo?"
   ]
  },
  {
   "cell_type": "code",
   "execution_count": 29,
   "metadata": {},
   "outputs": [
    {
     "name": "stdout",
     "output_type": "stream",
     "text": [
      "Arquivo gerado com sucesso no diretorio 'microdados_tratados/form_microdados_arq26.csv'\n"
     ]
    }
   ],
   "source": [
    "mapeamento_qe_i20 = {\n",
    "        \"A\": \"Não tive dificuldade\",\n",
    "        \"B\": \"Não recebi apoio para enfrentar dificuldades\",\n",
    "        \"C\": \"Pais\",\n",
    "        \"D\": \"Avós\",\n",
    "        \"E\": \"Irmãos, primos ou tios\",\n",
    "        \"F\": \"Líder ou representante religioso\",\n",
    "        \"G\": \"Colegas de curso ou amigos\",\n",
    "        \"H\": \"Professores do curso\",\n",
    "        \"I\": \"Profissionais do serviço de apoio ao estudante da IES\",\n",
    "        \"J\": \"Colegas de trabalho\",\n",
    "        \"K\": \"Outro grupo\"\n",
    "    }\n",
    "\n",
    "processar_arquivo(\n",
    "    'microdados_Enade_2021_LGPD/2.DADOS/microdados2021_arq26.txt',  #arquivo_entrada\n",
    "    'aux_files/vetores/microdados_aux.csv',                         #arquivo_auxiliar para o mapeamento do CO_CURSO\n",
    "    f'{dir_destino}/form_microdados_arq26.csv',                    #arquivo_saida\n",
    "    mapeamento_qe_i20,                                              #mapeamento\n",
    "    'QE_I20'                                                        #cabecalho coluna\n",
    ")\n"
   ]
  },
  {
   "cell_type": "markdown",
   "metadata": {},
   "source": [
    "## microdados2021_arq27\n",
    "QE21: Alguém em sua família concluiu um curso superior?"
   ]
  },
  {
   "cell_type": "code",
   "execution_count": 30,
   "metadata": {},
   "outputs": [
    {
     "name": "stdout",
     "output_type": "stream",
     "text": [
      "Arquivo gerado com sucesso no diretorio 'microdados_tratados/form_microdados_arq27.csv'\n"
     ]
    }
   ],
   "source": [
    "mapeamento_qe_i21 = {\n",
    "        \"A\": \"Sim\",\n",
    "        \"B\": \"Não\"\n",
    "    }\n",
    "\n",
    "processar_arquivo(\n",
    "    'microdados_Enade_2021_LGPD/2.DADOS/microdados2021_arq27.txt',  #arquivo_entrada\n",
    "    'aux_files/vetores/microdados_aux.csv',                         #arquivo_auxiliar para o mapeamento do CO_CURSO\n",
    "    f'{dir_destino}/form_microdados_arq27.csv',                    #arquivo_saida\n",
    "    mapeamento_qe_i21,                                              #mapeamento\n",
    "    'QE_I21'                                                        #cabecalho coluna\n",
    ")\n"
   ]
  },
  {
   "cell_type": "markdown",
   "metadata": {},
   "source": [
    "## microdados2021_arq28\n",
    "QE22: Excetuando-se os livros indicados na bibliografia do seu curso, quantos livros você leu neste ano?"
   ]
  },
  {
   "cell_type": "code",
   "execution_count": 31,
   "metadata": {},
   "outputs": [
    {
     "name": "stdout",
     "output_type": "stream",
     "text": [
      "Arquivo gerado com sucesso no diretorio 'microdados_tratados/form_microdados_arq28.csv'\n"
     ]
    }
   ],
   "source": [
    "mapeamento_qe_i22 = {\n",
    "        \"A\": \"Nenhum\",\n",
    "        \"B\": \"Um ou dois\",\n",
    "        \"C\": \"De três a cinco\",\n",
    "        \"D\": \"De seis a oito\",\n",
    "        \"E\": \"Mais de oito\"\n",
    "    }\n",
    "\n",
    "processar_arquivo(\n",
    "    'microdados_Enade_2021_LGPD/2.DADOS/microdados2021_arq28.txt',  #arquivo_entrada\n",
    "    'aux_files/vetores/microdados_aux.csv',                         #arquivo_auxiliar para o mapeamento do CO_CURSO\n",
    "    f'{dir_destino}/form_microdados_arq28.csv',                    #arquivo_saida\n",
    "    mapeamento_qe_i22,                                              #mapeamento\n",
    "    'QE_I22'                                                        #cabecalho coluna\n",
    ")\n"
   ]
  },
  {
   "cell_type": "markdown",
   "metadata": {},
   "source": [
    "## microdados2021_arq29\n",
    "QE23: Quantas horas por semana, aproximadamente, você dedicou aos estudos, excetuando as horas de aula?"
   ]
  },
  {
   "cell_type": "code",
   "execution_count": 32,
   "metadata": {},
   "outputs": [
    {
     "name": "stdout",
     "output_type": "stream",
     "text": [
      "Arquivo gerado com sucesso no diretorio 'microdados_tratados/form_microdados_arq29.csv'\n"
     ]
    }
   ],
   "source": [
    "mapeamento_qe_i23 = {\n",
    "        \"A\": \"Nenhuma, apenas assisto às aulas\",\n",
    "        \"B\": \"De uma a três\",\n",
    "        \"C\": \"De quatro a sete\",\n",
    "        \"D\": \"De oito a doze\",\n",
    "        \"E\": \"Mais de doze\"\n",
    "    }\n",
    "\n",
    "processar_arquivo(\n",
    "    'microdados_Enade_2021_LGPD/2.DADOS/microdados2021_arq29.txt',  #arquivo_entrada\n",
    "    'aux_files/vetores/microdados_aux.csv',                         #arquivo_auxiliar para o mapeamento do CO_CURSO\n",
    "    f'{dir_destino}/form_microdados_arq29.csv',                    #arquivo_saida\n",
    "    mapeamento_qe_i23,                                              #mapeamento\n",
    "    'QE_I23'                                                        #cabecalho coluna\n",
    ")\n"
   ]
  },
  {
   "cell_type": "markdown",
   "metadata": {},
   "source": [
    "## microdados2021_arq30\n",
    "QE24: Você teve oportunidade de aprendizado de idioma estrangeiro na Instituição?"
   ]
  },
  {
   "cell_type": "code",
   "execution_count": 33,
   "metadata": {},
   "outputs": [
    {
     "name": "stdout",
     "output_type": "stream",
     "text": [
      "Arquivo gerado com sucesso no diretorio 'microdados_tratados/form_microdados_arq30.csv'\n"
     ]
    }
   ],
   "source": [
    "mapeamento_qe_i24 = {\n",
    "        \"A\": \"Sim, somente na modalidade presencial\",\n",
    "        \"B\": \"Sim, somente na modalidade semipresencial\",\n",
    "        \"C\": \"Sim, parte na modalidade presencial e parte na modalidade semipresencial\",\n",
    "        \"D\": \"Sim, na modalidade a distância\",\n",
    "        \"E\": \"Não\"\n",
    "    }\n",
    "\n",
    "processar_arquivo(\n",
    "    'microdados_Enade_2021_LGPD/2.DADOS/microdados2021_arq30.txt',  #arquivo_entrada\n",
    "    'aux_files/vetores/microdados_aux.csv',                         #arquivo_auxiliar para o mapeamento do CO_CURSO\n",
    "    f'{dir_destino}/form_microdados_arq30.csv',                    #arquivo_saida\n",
    "    mapeamento_qe_i24,                                              #mapeamento\n",
    "    'QE_I24'                                                        #cabecalho coluna\n",
    ")\n"
   ]
  },
  {
   "cell_type": "markdown",
   "metadata": {},
   "source": [
    "## microdados2021_arq31\n",
    "QE25: Qual o principal motivo para você ter escolhido este curso?"
   ]
  },
  {
   "cell_type": "code",
   "execution_count": 34,
   "metadata": {},
   "outputs": [
    {
     "name": "stdout",
     "output_type": "stream",
     "text": [
      "Arquivo gerado com sucesso no diretorio 'microdados_tratados/form_microdados_arq31.csv'\n"
     ]
    }
   ],
   "source": [
    "mapeamento_qe_i25 = {\n",
    "        \"A\": \"Inserção no mercado de trabalho\",\n",
    "        \"B\": \"Influência familiar\",\n",
    "        \"C\": \"Valorização profissional\",\n",
    "        \"D\": \"Prestígio Social\",\n",
    "        \"E\": \"Vocação\",\n",
    "        \"F\": \"Oferecido na modalidade a distância\",\n",
    "        \"G\": \"Baixa concorrência para ingresso\",\n",
    "        \"H\": \"Outro motivo\"\n",
    "    }\n",
    "\n",
    "processar_arquivo(\n",
    "    'microdados_Enade_2021_LGPD/2.DADOS/microdados2021_arq31.txt',  #arquivo_entrada\n",
    "    'aux_files/vetores/microdados_aux.csv',                         #arquivo_auxiliar para o mapeamento do CO_CURSO\n",
    "    f'{dir_destino}/form_microdados_arq31.csv',                    #arquivo_saida\n",
    "    mapeamento_qe_i25,                                              #mapeamento\n",
    "    'QE_I25'                                                        #cabecalho coluna\n",
    ")\n"
   ]
  },
  {
   "cell_type": "markdown",
   "metadata": {},
   "source": [
    "## microdados2021_arq32\n",
    "QE26: Qual a principal razão para você ter escolhido a sua instituição de educação superior?"
   ]
  },
  {
   "cell_type": "code",
   "execution_count": 35,
   "metadata": {},
   "outputs": [
    {
     "name": "stdout",
     "output_type": "stream",
     "text": [
      "Arquivo gerado com sucesso no diretorio 'microdados_tratados/form_microdados_arq32.csv'\n"
     ]
    }
   ],
   "source": [
    "mapeamento_qe_i26 = {\n",
    "        \"A\": \"Gratuidade\",\n",
    "        \"B\": \"Preço da mensalidade\",\n",
    "        \"C\": \"Proximidade da minha residência\",\n",
    "        \"D\": \"Proximidade do meu trabalho\",\n",
    "        \"E\": \"Facilidade de acesso\",\n",
    "        \"F\": \"Qualidade/reputação\",\n",
    "        \"G\": \"Foi a única onde tive aprovação\",\n",
    "        \"H\": \"Possibilidade de ter bolsa de estudo\",\n",
    "        \"I\": \"Outro motivo\"\n",
    "    }\n",
    "\n",
    "processar_arquivo(\n",
    "    'microdados_Enade_2021_LGPD/2.DADOS/microdados2021_arq32.txt',  #arquivo_entrada\n",
    "    'aux_files/vetores/microdados_aux.csv',                         #arquivo_auxiliar para o mapeamento do CO_CURSO\n",
    "    f'{dir_destino}/form_microdados_arq32.csv',                    #arquivo_saida\n",
    "    mapeamento_qe_i26,                                              #mapeamento\n",
    "    'QE_I26'                                                        #cabecalho coluna\n",
    ")\n"
   ]
  },
  {
   "cell_type": "markdown",
   "metadata": {},
   "source": [
    "### microdados2021_arq4\n",
    "\n",
    "As variáveis QE_I27 a QE_I68 foram marcadas conforme o grau de concordância do aluno para cada assertiva, segundo a escala que varia de 1 (discordância total) a 6 (concordância total). A resposta 7 foi marcada quando julgado \"não ter elementos para avaliar a assertiva\" (Não sei responder) e a reposta 8 quando \"considerar não pertinente ao curso\" (Não se aplica).\t\t\t\n"
   ]
  },
  {
   "cell_type": "code",
   "execution_count": 4,
   "metadata": {},
   "outputs": [],
   "source": [
    "import pandas as pd\n",
    "import csv\n",
    "\n",
    "def processar_arquivo_m4(arquivo_entrada, arquivo_auxiliar, arquivo_saida, mapeamento_qe):\n",
    "    \n",
    "    dados = pd.read_csv(arquivo_entrada, delimiter=';', encoding='utf-8')\n",
    "    dados_aux = pd.read_csv(arquivo_auxiliar, delimiter=';', encoding='utf-8')\n",
    "\n",
    "    mapa_curso_nome = dict(zip(dados_aux['CO_CURSO'], dados_aux['NOME_CURSO']))\n",
    "    mapa_curso_co_ies = dict(zip(dados_aux['CO_CURSO'], dados_aux['CO_IES']))\n",
    "    mapa_curso_nome_ies = dict(zip(dados_aux['CO_CURSO'], dados_aux['NOME_IES']))\n",
    "\n",
    "    dados['NOME_CURSO'] = dados['CO_CURSO'].map(mapa_curso_nome)\n",
    "    dados['CO_IES'] = dados['CO_CURSO'].map(mapa_curso_co_ies)\n",
    "    dados['NOME_IES'] = dados['CO_CURSO'].map(mapa_curso_nome_ies)\n",
    "\n",
    "    for coluna in mapeamento_qe.keys():\n",
    "        if coluna in dados.columns:\n",
    "            dados[coluna] = dados[coluna].map(mapeamento_qe[coluna])\n",
    "\n",
    "    colunas = ['NU_ANO', 'CO_CURSO', 'NOME_CURSO', 'CO_IES', 'NOME_IES'] + list(mapeamento_qe.keys())\n",
    "    dados.to_csv(arquivo_saida, columns=colunas, sep=';', index=False, quoting=csv.QUOTE_NONNUMERIC, quotechar='\"')\n",
    "    print(f\"Arquivo '{arquivo_saida}' gerado com sucesso!\")\n"
   ]
  },
  {
   "cell_type": "code",
   "execution_count": 37,
   "metadata": {},
   "outputs": [
    {
     "name": "stdout",
     "output_type": "stream",
     "text": [
      "Arquivo 'microdados_tratados/form_microdados_arq4.csv' gerado com sucesso!\n"
     ]
    }
   ],
   "source": [
    "\n",
    "mapeamento_qe = {f'QE_I{i}': {1: \"Discordo totalmente\",\n",
    "                              2: \"Discordo\",\n",
    "                              3: \"Discordo parcialmente\",\n",
    "                              4: \"Concordo parcialmente\",\n",
    "                              5: \"Concordo\",\n",
    "                              6: \"Concordo totalmente\",\n",
    "                              7: \"Não sei responder\",\n",
    "                              8: \"Não se aplica\"} for i in range(27, 69)}\n",
    "\n",
    "processar_arquivo_m4(\n",
    "    'microdados_Enade_2021_LGPD/2.DADOS/microdados2021_arq4.txt',\n",
    "    'aux_files/vetores/microdados_aux.csv',\n",
    "    f'{dir_destino}/form_microdados_arq4.csv',\n",
    "    mapeamento_qe\n",
    ")"
   ]
  },
  {
   "cell_type": "markdown",
   "metadata": {},
   "source": [
    "# Questionario Pandemia"
   ]
  },
  {
   "cell_type": "markdown",
   "metadata": {},
   "source": [
    "## microdados2021_arq43\n"
   ]
  },
  {
   "cell_type": "code",
   "execution_count": 5,
   "metadata": {},
   "outputs": [
    {
     "name": "stdout",
     "output_type": "stream",
     "text": [
      "Arquivo 'microdados_tratados/form_microdados_arq43.csv' gerado com sucesso!\n"
     ]
    }
   ],
   "source": [
    "\n",
    "mapeamento_qe = {f'QE_I{i}': {1: \"Discordo totalmente\",\n",
    "                              2: \"Discordo\",\n",
    "                              3: \"Discordo parcialmente\",\n",
    "                              4: \"Concordo parcialmente\",\n",
    "                              5: \"Concordo\",\n",
    "                              6: \"Concordo totalmente\",\n",
    "                              7: \"Não se aplica\",\n",
    "                              8: \"Não sei responder\"} for i in range(82, 93)}\n",
    "\n",
    "processar_arquivo_m4(\n",
    "    'microdados_Enade_2021_LGPD/2.DADOS/microdados2021_arq43.txt',\n",
    "    'aux_files/vetores/microdados_aux.csv',\n",
    "    f'{dir_destino}/form_microdados_arq43.csv',\n",
    "    mapeamento_qe\n",
    ")"
   ]
  }
 ],
 "metadata": {
  "kernelspec": {
   "display_name": "Python 3",
   "language": "python",
   "name": "python3"
  },
  "language_info": {
   "codemirror_mode": {
    "name": "ipython",
    "version": 3
   },
   "file_extension": ".py",
   "mimetype": "text/x-python",
   "name": "python",
   "nbconvert_exporter": "python",
   "pygments_lexer": "ipython3",
   "version": "3.7.5"
  },
  "orig_nbformat": 4
 },
 "nbformat": 4,
 "nbformat_minor": 2
}

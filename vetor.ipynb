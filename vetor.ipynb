{
 "cells": [
  {
   "cell_type": "markdown",
   "metadata": {},
   "source": [
    "# ORIENTAÇÕES PARA O IMPORTAÇÃO DOS DADOS\n",
    "Para importar corretamente a base de dados dos Microdados do Enade é necessário considerar os seguintes requisitos:\n",
    "\n",
    "• a importação deve considerar o separador ponto e vírgula (;);\n",
    "\n",
    "• a primeira linha sendo considerada o cabeçalho;\n",
    "\n",
    "• os decimais devem ser importados em formato de ponto (.);\n",
    "\n",
    "• considerar os valores faltantes como aspas duplas (“);\n",
    "\n",
    "• é necessário importar as colunas “DS_VT_ACE_OFG” e “DS_VT_ACE_OCE” como caractere (string)."
   ]
  },
  {
   "cell_type": "code",
   "execution_count": 35,
   "metadata": {},
   "outputs": [],
   "source": [
    "entrada =\"microdados_Enade_2021_LGPD/2.DADOS/microdados2021_arq3.txt\"\n"
   ]
  },
  {
   "cell_type": "markdown",
   "metadata": {},
   "source": [
    "## nota"
   ]
  },
  {
   "cell_type": "code",
   "execution_count": 46,
   "metadata": {},
   "outputs": [
    {
     "name": "stdout",
     "output_type": "stream",
     "text": [
      "Processamento concluído. Arquivo de saída gerado: 'saida.csv'\n"
     ]
    }
   ],
   "source": [
    "import re\n",
    "\n",
    "\n",
    "def calcular_nota(valores):\n",
    "    mapeamento = {'1': 12.5, '0': 0, '9': 1.8}\n",
    "\n",
    "    \n",
    "    if any(not valor for valor in valores):\n",
    "        return ''\n",
    "    \n",
    "    return sum([mapeamento.get(valor, 0) for valor in valores])\n",
    "\n",
    "\n",
    "\n",
    "with open(entrada, 'r', encoding='utf-8') as arquivo_entrada:\n",
    "    linhas = arquivo_entrada.readlines()\n",
    "\n",
    "\n",
    "    pattern_ofg = re.compile(r'\\bDS_VT_ACE_OFG\\b')\n",
    "    match_ofg = pattern_ofg.search(linhas[0])\n",
    "    if not match_ofg:\n",
    "        raise ValueError(\"Coluna 'DS_VT_ACE_OFG' não encontrada no arquivo de entrada.\")\n",
    "    indice_ds_vt_ace_ofg = linhas[0].count(';', 0, match_ofg.start())\n",
    "\n",
    "    \n",
    "    novo_cabecalho = linhas[0].strip() + ';' + ';'.join([f'forma_geral_q_{i+1}' for i in range(8)]) + ';nota_test_ace_ofg'\n",
    "    linhas_processadas = [novo_cabecalho]\n",
    "\n",
    "\n",
    "    for linha in linhas[1:]:\n",
    "        linha = linha.strip()\n",
    "        partes = linha.split(';')\n",
    "\n",
    "        ds_vt_ace_ofg = partes[indice_ds_vt_ace_ofg].strip('\"')\n",
    "\n",
    "  \n",
    "        caracteres_ofg = [ds_vt_ace_ofg[i:i + 1] if len(ds_vt_ace_ofg) > i else '' for i in range(8)]\n",
    "        \n",
    "       \n",
    "        nota = calcular_nota(caracteres_ofg)\n",
    "\n",
    "    \n",
    "        nova_linha = linha + ';' + ';'.join(caracteres_ofg) + ';' + (str(nota) if nota != '' else '')\n",
    "        linhas_processadas.append(nova_linha)\n",
    "\n",
    "\n",
    "with open('vetor_microdado3.csv', 'w', newline='', encoding='utf-8') as arquivo_saida:\n",
    "    for linha in linhas_processadas:\n",
    "        arquivo_saida.write(linha + '\\n')\n",
    "\n",
    "print(\"Processamento concluído. Arquivo de saída gerado: 'vetor_microdado3.csv'\")\n"
   ]
  }
 ],
 "metadata": {
  "kernelspec": {
   "display_name": "Python 3",
   "language": "python",
   "name": "python3"
  },
  "language_info": {
   "codemirror_mode": {
    "name": "ipython",
    "version": 3
   },
   "file_extension": ".py",
   "mimetype": "text/x-python",
   "name": "python",
   "nbconvert_exporter": "python",
   "pygments_lexer": "ipython3",
   "version": "3.7.5"
  }
 },
 "nbformat": 4,
 "nbformat_minor": 2
}

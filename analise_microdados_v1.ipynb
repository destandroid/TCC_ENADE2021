{
 "cells": [
  {
   "cell_type": "markdown",
   "metadata": {},
   "source": [
    "# ORIENTAÇÕES PARA O IMPORTAÇÃO DOS DADOS\n",
    "Para importar corretamente a base de dados dos Microdados do Enade é necessário considerar os seguintes requisitos:\n",
    "\n",
    "• a importação deve considerar o separador ponto e vírgula (;);\n",
    "\n",
    "• a primeira linha sendo considerada o cabeçalho;\n",
    "\n",
    "• os decimais devem ser importados em formato de ponto (.);\n",
    "\n",
    "• considerar os valores faltantes como aspas duplas (“);\n",
    "\n",
    "• é necessário importar as colunas “DS_VT_ACE_OFG” e “DS_VT_ACE_OCE” como caractere (string)."
   ]
  },
  {
   "cell_type": "markdown",
   "metadata": {},
   "source": [
    "## microdados2021_arq1 \n",
    "Edição, código de curso e caracterização do curso."
   ]
  },
  {
   "cell_type": "markdown",
   "metadata": {},
   "source": [
    "## microdados2021_arq7 - 1 Qual o seu estado civil?"
   ]
  },
  {
   "cell_type": "code",
   "execution_count": 8,
   "metadata": {},
   "outputs": [
    {
     "name": "stdout",
     "output_type": "stream",
     "text": [
      "\n",
      "Contagem dos itens em QE_I01:\n",
      "Solteiro(a)                                250548\n",
      "Casado(a)                                  122006\n",
      "Outro                                       17841\n",
      "Separado(a) judicialmente/divorciado(a)     16721\n",
      "Viúvo(a)                                     1870\n",
      "Name: QE_I01, dtype: int64\n"
     ]
    }
   ],
   "source": [
    "import pandas as pd\n",
    "\n",
    "\n",
    "nome_arquivo_entrada = \"microdados_Enade_2021_LGPD/2.DADOS/microdados2021_arq7.txt\"\n",
    "\n",
    "nome_arquivo_saida = \"saida_teste7.txt\"\n",
    "\n",
    "colunas = [\"NU_ANO\", \"CO_CURSO\", \"QE_I01\"]#coluna do arquivo\n",
    "\n",
    "dados = pd.read_csv(nome_arquivo_entrada, sep=';', decimal='.', na_values='\"', usecols=colunas)#leitura do arquivo\n",
    "\n",
    "mapeamento_qe_i01 = {\n",
    "    \"A\": \"Solteiro(a)\",\n",
    "    \"B\": \"Casado(a)\",\n",
    "    \"C\": \"Separado(a) judicialmente/divorciado(a)\",\n",
    "    \"D\": \"Viúvo(a)\",\n",
    "    \"E\": \"Outro\"\n",
    "}\n",
    "\n",
    "dados[\"QE_I01\"] = dados[\"QE_I01\"].map(mapeamento_qe_i01)\n",
    "\n",
    "contagem_qe_i01 = dados[\"QE_I01\"].value_counts()\n",
    "\n",
    "print(\"\\nContagem dos itens em QE_I01:\")\n",
    "print(contagem_qe_i01)\n",
    "\n",
    "dados.to_csv(nome_arquivo_saida, sep=';', index=False, decimal='.', na_rep='\"')\n"
   ]
  },
  {
   "cell_type": "markdown",
   "metadata": {},
   "source": [
    "## microdados2021_arq8 - 2)Qual é a sua cor ou raça?"
   ]
  },
  {
   "cell_type": "code",
   "execution_count": 9,
   "metadata": {},
   "outputs": [
    {
     "name": "stdout",
     "output_type": "stream",
     "text": [
      "\n",
      "Contagem dos itens em QE_I02:\n",
      "Branca                188287\n",
      "Parda                 154297\n",
      "Preta                  47997\n",
      "Não quero declarar      8682\n",
      "Amarela                 7846\n",
      "Indígena                1877\n",
      "Name: QE_I02, dtype: int64\n"
     ]
    }
   ],
   "source": [
    "import pandas as pd\n",
    "\n",
    "nome_arquivo_entrada = \"microdados_Enade_2021_LGPD/2.DADOS/microdados2021_arq8.txt\"\n",
    "nome_arquivo_saida = \"saida_teste8.txt\"\n",
    "colunas = [\"NU_ANO\", \"CO_CURSO\", \"QE_I02\"]\n",
    "\n",
    "dados = pd.read_csv(nome_arquivo_entrada, sep=';', decimal='.', na_values='\"', usecols=colunas)\n",
    "\n",
    "mapeamento_qe_i02 = {\n",
    "    \"A\": \"Branca\",\n",
    "    \"B\": \"Preta\",\n",
    "    \"C\": \"Amarela\",\n",
    "    \"D\": \"Parda\",\n",
    "    \"E\": \"Indígena\",\n",
    "    \"F\": \"Não quero declarar\"\n",
    "}\n",
    "\n",
    "dados[\"QE_I02\"] = dados[\"QE_I02\"].map(mapeamento_qe_i02)\n",
    "\n",
    "\n",
    "contagem_qe_i02 = dados[\"QE_I02\"].value_counts()\n",
    "\n",
    "print(\"\\nContagem dos itens em QE_I02:\")\n",
    "print(contagem_qe_i02)\n",
    "\n",
    "dados.to_csv(nome_arquivo_saida, sep=';', index=False, decimal='.', na_rep='\"')\n"
   ]
  },
  {
   "cell_type": "markdown",
   "metadata": {},
   "source": [
    "## microdados2021_arq9 \n",
    "QE3: Qual a sua nacionalidade?"
   ]
  },
  {
   "cell_type": "code",
   "execution_count": 10,
   "metadata": {},
   "outputs": [
    {
     "name": "stdout",
     "output_type": "stream",
     "text": [
      "\n",
      "Contagem dos itens em QE_I03:\n",
      "Brasileira                 403872\n",
      "Brasileira naturalizada      4278\n",
      "Estrangeira                   830\n",
      "Name: QE_I03, dtype: int64\n"
     ]
    }
   ],
   "source": [
    "import pandas as pd\n",
    "\n",
    "nome_arquivo_entrada = \"microdados_Enade_2021_LGPD/2.DADOS/microdados2021_arq9.txt\"\n",
    "nome_arquivo_saida = \"saida_teste9.txt\"\n",
    "colunas = [\"NU_ANO\", \"CO_CURSO\", \"QE_I03\"]\n",
    "\n",
    "dados = pd.read_csv(nome_arquivo_entrada, sep=';', decimal='.', na_values='\"', usecols=colunas)\n",
    "\n",
    "dados[\"QE_I03\"] = dados[\"QE_I03\"].astype(str)\n",
    "\n",
    "mapeamento_qe_i03 = {\n",
    "    \"A\": \"Brasileira\",\n",
    "    \"B\": \"Brasileira naturalizada\",\n",
    "    \"C\": \"Estrangeira\"\n",
    "}\n",
    "\n",
    "dados[\"QE_I03\"] = dados[\"QE_I03\"].map(mapeamento_qe_i03)\n",
    "\n",
    "contagem_qe_i03 = dados[\"QE_I03\"].value_counts()\n",
    "\n",
    "print(\"\\nContagem dos itens em QE_I03:\")\n",
    "print(contagem_qe_i03)\n",
    "\n",
    "dados.to_csv(nome_arquivo_saida, sep=';', index=False, decimal='.', na_rep='\"')\n",
    "\n",
    "\n"
   ]
  },
  {
   "cell_type": "markdown",
   "metadata": {},
   "source": [
    "## microdados2021_arq10\n",
    "QE4: Até que etapa de escolarização seu pai concluiu?"
   ]
  },
  {
   "cell_type": "code",
   "execution_count": 2,
   "metadata": {},
   "outputs": [
    {
     "name": "stdout",
     "output_type": "stream",
     "text": [
      "\n",
      "Contagem dos itens em QE_I04:\n",
      "Ensino Fundamental: 1º ao 5º ano (1ª a 4ª série)    140130\n",
      "Ensino Médio                                        109307\n",
      "Ensino Fundamental: 6º ao 9º ano (5ª a 8ª série)     60256\n",
      "Nenhuma                                              43801\n",
      "Ensino Superior - Graduação                          41201\n",
      "Pós-graduação                                        14288\n",
      "Name: QE_I04, dtype: int64\n"
     ]
    }
   ],
   "source": [
    "import pandas as pd\n",
    "\n",
    "nome_arquivo_entrada = \"microdados_Enade_2021_LGPD/2.DADOS/microdados2021_arq10.txt\"\n",
    "nome_arquivo_saida = \"testes_saidas/saida_teste10.txt\"\n",
    "colunas = [\"NU_ANO\", \"CO_CURSO\", \"QE_I04\"]  \n",
    "\n",
    "dados = pd.read_csv(nome_arquivo_entrada, sep=';', decimal='.', na_values='\"', usecols=colunas)\n",
    "\n",
    "dados[\"QE_I04\"] = dados[\"QE_I04\"].astype(str)\n",
    "\n",
    "mapeamento_qe_i04 = {\n",
    "    \"A\": \"Nenhuma\",\n",
    "    \"B\": \"Ensino Fundamental: 1º ao 5º ano (1ª a 4ª série)\",\n",
    "    \"C\": \"Ensino Fundamental: 6º ao 9º ano (5ª a 8ª série)\",\n",
    "    \"D\": \"Ensino Médio\",\n",
    "    \"E\": \"Ensino Superior - Graduação\",\n",
    "    \"F\": \"Pós-graduação\"\n",
    "}\n",
    "\n",
    "dados[\"QE_I04\"] = dados[\"QE_I04\"].map(mapeamento_qe_i04)\n",
    "\n",
    "contagem_qe_i04 = dados[\"QE_I04\"].value_counts()\n",
    "\n",
    "print(\"\\nContagem dos itens em QE_I04:\")\n",
    "print(contagem_qe_i04)\n",
    "\n",
    "dados.to_csv(nome_arquivo_saida, sep=';', index=False, decimal='.', na_rep='\"')\n"
   ]
  },
  {
   "cell_type": "markdown",
   "metadata": {},
   "source": [
    "## microdados2021_arq11\n",
    "QE5: Até que etapa de escolarização sua mãe concluiu?"
   ]
  },
  {
   "cell_type": "code",
   "execution_count": 4,
   "metadata": {},
   "outputs": [
    {
     "name": "stdout",
     "output_type": "stream",
     "text": [
      "\n",
      "Contagem dos itens em QE_I05:\n",
      "Ensino Médio                                        123145\n",
      "Ensino Fundamental: 1º ao 5º ano (1ª a 4ª série)    122538\n",
      "Ensino Fundamental: 6º ao 9º ano (5ª a 8ª série)     62290\n",
      "Ensino Superior - Graduação                          45990\n",
      "Nenhuma                                              28056\n",
      "Pós-graduação                                        26965\n",
      "Name: QE_I05, dtype: int64\n"
     ]
    }
   ],
   "source": [
    "import pandas as pd\n",
    "\n",
    "nome_arquivo_entrada = \"microdados_Enade_2021_LGPD/2.DADOS/microdados2021_arq11.txt\"\n",
    "nome_arquivo_saida = \"testes_saidas/saida_teste11.txt\"\n",
    "colunas = [\"NU_ANO\", \"CO_CURSO\", \"QE_I05\"]  \n",
    "\n",
    "dados = pd.read_csv(nome_arquivo_entrada, sep=';', decimal='.', na_values='\"', usecols=colunas)\n",
    "\n",
    "dados[\"QE_I05\"] = dados[\"QE_I05\"].astype(str)\n",
    "\n",
    "mapeamento_qe_i05 = {\n",
    "    \"A\": \"Nenhuma\",\n",
    "    \"B\": \"Ensino Fundamental: 1º ao 5º ano (1ª a 4ª série)\",\n",
    "    \"C\": \"Ensino Fundamental: 6º ao 9º ano (5ª a 8ª série)\",\n",
    "    \"D\": \"Ensino Médio\",\n",
    "    \"E\": \"Ensino Superior - Graduação\",\n",
    "    \"F\": \"Pós-graduação\"\n",
    "}\n",
    "\n",
    "dados[\"QE_I05\"] = dados[\"QE_I05\"].map(mapeamento_qe_i05)\n",
    "\n",
    "contagem_qe_i05 = dados[\"QE_I05\"].value_counts()\n",
    "\n",
    "print(\"\\nContagem dos itens em QE_I05:\")\n",
    "print(contagem_qe_i05)\n",
    "\n",
    "dados.to_csv(nome_arquivo_saida, sep=';', index=False, decimal='.', na_rep='\"')\n"
   ]
  },
  {
   "cell_type": "markdown",
   "metadata": {},
   "source": [
    "## microdados2021_arq12\n",
    "QE6: Onde e com quem você mora atualmente?"
   ]
  },
  {
   "cell_type": "code",
   "execution_count": 4,
   "metadata": {},
   "outputs": [
    {
     "name": "stdout",
     "output_type": "stream",
     "text": [
      "\n",
      "Contagem dos itens em QE_I06:\n",
      "Em casa ou apartamento, com pais e/ou parentes                                              184530\n",
      "Em casa ou apartamento, com cônjuge e/ou filhos                                             175113\n",
      "Em casa ou apartamento, sozinho                                                              33120\n",
      "Em casa ou apartamento, com outras pessoas (incluindo república)                             12871\n",
      "Em outros tipos de habitação individual ou coletiva (hotel, hospedaria, pensão ou outro)      2624\n",
      "Em alojamento universitário da própria instituição                                             726\n",
      "Name: QE_I06, dtype: int64\n"
     ]
    }
   ],
   "source": [
    "import pandas as pd\n",
    "\n",
    "nome_arquivo_entrada = \"microdados_Enade_2021_LGPD/2.DADOS/microdados2021_arq12.txt\"  \n",
    "nome_arquivo_saida = \"testes_saidas/saida_teste12.txt\"\n",
    "colunas = [\"NU_ANO\", \"CO_CURSO\", \"QE_I06\"]  \n",
    "\n",
    "dados = pd.read_csv(nome_arquivo_entrada, sep=';', decimal='.', na_values='\"', usecols=colunas)\n",
    "\n",
    "dados[\"QE_I06\"] = dados[\"QE_I06\"].astype(str)\n",
    "\n",
    "mapeamento_qe_i06 = {\n",
    "    \"A\": \"Em casa ou apartamento, sozinho\",\n",
    "    \"B\": \"Em casa ou apartamento, com pais e/ou parentes\",\n",
    "    \"C\": \"Em casa ou apartamento, com cônjuge e/ou filhos\",\n",
    "    \"D\": \"Em casa ou apartamento, com outras pessoas (incluindo república)\",\n",
    "    \"E\": \"Em alojamento universitário da própria instituição\",\n",
    "    \"F\": \"Em outros tipos de habitação individual ou coletiva (hotel, hospedaria, pensão ou outro)\"\n",
    "}\n",
    "\n",
    "dados[\"QE_I06\"] = dados[\"QE_I06\"].map(mapeamento_qe_i06)\n",
    "\n",
    "contagem_qe_i06 = dados[\"QE_I06\"].value_counts()\n",
    "\n",
    "print(\"\\nContagem dos itens em QE_I06:\")\n",
    "print(contagem_qe_i06)\n",
    "\n",
    "dados.to_csv(nome_arquivo_saida, sep=';', index=False, decimal='.', na_rep='\"')\n"
   ]
  },
  {
   "cell_type": "markdown",
   "metadata": {},
   "source": [
    "## microdados2021_arq13\n",
    "QE7: Quantas pessoas da sua família moram com você? Considere seus pais, irmãos, cônjuge, filhos e outros parentes que moram na mesma casa com você."
   ]
  },
  {
   "cell_type": "code",
   "execution_count": 5,
   "metadata": {},
   "outputs": [
    {
     "name": "stdout",
     "output_type": "stream",
     "text": [
      "\n",
      "Contagem dos itens em QE_I07:\n",
      "Três            102304\n",
      "Duas            101013\n",
      "Uma              70005\n",
      "Quatro           59397\n",
      "Nenhuma          36419\n",
      "Cinco            24506\n",
      "Seis              8909\n",
      "Sete ou mais      6433\n",
      "Name: QE_I07, dtype: int64\n"
     ]
    }
   ],
   "source": [
    "import pandas as pd\n",
    "\n",
    "nome_arquivo_entrada = \"microdados_Enade_2021_LGPD/2.DADOS/microdados2021_arq13.txt\"  \n",
    "nome_arquivo_saida = \"testes_saidas/saida_teste13.txt\"\n",
    "colunas = [\"NU_ANO\", \"CO_CURSO\", \"QE_I07\"]  \n",
    "\n",
    "dados = pd.read_csv(nome_arquivo_entrada, sep=';', decimal='.', na_values='\"', usecols=colunas)\n",
    "\n",
    "dados[\"QE_I07\"] = dados[\"QE_I07\"].astype(str)\n",
    "\n",
    "mapeamento_qe_i07 = {\n",
    "    \"A\": \"Nenhuma\",\n",
    "    \"B\": \"Uma\",\n",
    "    \"C\": \"Duas\",\n",
    "    \"D\": \"Três\",\n",
    "    \"E\": \"Quatro\",\n",
    "    \"F\": \"Cinco\",\n",
    "    \"G\": \"Seis\",\n",
    "    \"H\": \"Sete ou mais\"\n",
    "}\n",
    "\n",
    "dados[\"QE_I07\"] = dados[\"QE_I07\"].map(mapeamento_qe_i07)\n",
    "\n",
    "contagem_qe_i07 = dados[\"QE_I07\"].value_counts()\n",
    "\n",
    "print(\"\\nContagem dos itens em QE_I07:\")\n",
    "print(contagem_qe_i07)\n",
    "\n",
    "dados.to_csv(nome_arquivo_saida, sep=';', index=False, decimal='.', na_rep='\"')\n"
   ]
  },
  {
   "cell_type": "markdown",
   "metadata": {},
   "source": [
    "## microdados2021_arq14\n",
    "QE8: Qual a renda total de sua família, incluindo seus rendimentos?"
   ]
  },
  {
   "cell_type": "code",
   "execution_count": 6,
   "metadata": {},
   "outputs": [
    {
     "name": "stdout",
     "output_type": "stream",
     "text": [
      "\n",
      "Contagem dos itens em QE_I08:\n",
      "De 1,5 a 3 salários mínimos (R$ 1.650,01 a R$ 3.300,00)      145965\n",
      "Até 1,5 salário mínimo (até R$ 1.650,00)                     119435\n",
      "De 3 a 4,5 salários mínimos (R$ 3.300,01 a R$ 4.950,00)       64285\n",
      "De 4,5 a 6 salários mínimos (R$ 4.950,01 a R$ 6.600,00)       36710\n",
      "De 6 a 10 salários mínimos (R$ 6.600,01 a R$ 11.000,00)       29167\n",
      "De 10 a 30 salários mínimos (R$ 11.000,01 a R$ 33.000,00)     12200\n",
      "Acima de 30 salários mínimos (mais de R$ 33.000,00)            1224\n",
      "Name: QE_I08, dtype: int64\n"
     ]
    }
   ],
   "source": [
    "import pandas as pd\n",
    "\n",
    "nome_arquivo_entrada = \"microdados_Enade_2021_LGPD/2.DADOS/microdados2021_arq14.txt\"  \n",
    "nome_arquivo_saida = \"testes_saidas/saida_teste14.txt\"\n",
    "colunas = [\"NU_ANO\", \"CO_CURSO\", \"QE_I08\"]  \n",
    "\n",
    "dados = pd.read_csv(nome_arquivo_entrada, sep=';', decimal='.', na_values='\"', usecols=colunas)\n",
    "\n",
    "dados[\"QE_I08\"] = dados[\"QE_I08\"].astype(str)\n",
    "\n",
    "mapeamento_qe_i08 = {\n",
    "    \"A\": \"Até 1,5 salário mínimo (até R$ 1.650,00)\",\n",
    "    \"B\": \"De 1,5 a 3 salários mínimos (R$ 1.650,01 a R$ 3.300,00)\",\n",
    "    \"C\": \"De 3 a 4,5 salários mínimos (R$ 3.300,01 a R$ 4.950,00)\",\n",
    "    \"D\": \"De 4,5 a 6 salários mínimos (R$ 4.950,01 a R$ 6.600,00)\",\n",
    "    \"E\": \"De 6 a 10 salários mínimos (R$ 6.600,01 a R$ 11.000,00)\",\n",
    "    \"F\": \"De 10 a 30 salários mínimos (R$ 11.000,01 a R$ 33.000,00)\",\n",
    "    \"G\": \"Acima de 30 salários mínimos (mais de R$ 33.000,00)\"\n",
    "}\n",
    "\n",
    "dados[\"QE_I08\"] = dados[\"QE_I08\"].map(mapeamento_qe_i08)\n",
    "\n",
    "contagem_qe_i08 = dados[\"QE_I08\"].value_counts()\n",
    "\n",
    "print(\"\\nContagem dos itens em QE_I08:\")\n",
    "print(contagem_qe_i08)\n",
    "\n",
    "dados.to_csv(nome_arquivo_saida, sep=';', index=False, decimal='.', na_rep='\"')\n"
   ]
  },
  {
   "cell_type": "markdown",
   "metadata": {},
   "source": [
    "## microdados2021_arq15\n",
    "QE9: Qual alternativa a seguir melhor descreve sua situação financeira (incluindo bolsas)?"
   ]
  },
  {
   "cell_type": "code",
   "execution_count": 7,
   "metadata": {},
   "outputs": [
    {
     "name": "stdout",
     "output_type": "stream",
     "text": [
      "\n",
      "Contagem dos itens em QE_I09:\n",
      "Tenho renda e contribuo com o sustento da família                                           106830\n",
      "Tenho renda, mas recebo ajuda da família ou de outras pessoas para financiar meus gastos     95743\n",
      "Não tenho renda e meus gastos são financiados pela minha família ou por outras pessoas       87602\n",
      "Tenho renda e não preciso de ajuda para financiar meus gastos                                53573\n",
      "Sou o principal responsável pelo sustento da família                                         43216\n",
      "Não tenho renda e meus gastos são financiados por programas governamentais                   22019\n",
      "Name: QE_I09, dtype: int64\n"
     ]
    }
   ],
   "source": [
    "import pandas as pd\n",
    "\n",
    "nome_arquivo_entrada = \"microdados_Enade_2021_LGPD/2.DADOS/microdados2021_arq15.txt\"  \n",
    "nome_arquivo_saida = \"testes_saidas/saida_teste15.txt\"\n",
    "colunas = [\"NU_ANO\", \"CO_CURSO\", \"QE_I09\"] \n",
    "\n",
    "dados = pd.read_csv(nome_arquivo_entrada, sep=';', decimal='.', na_values='\"', usecols=colunas)\n",
    "\n",
    "dados[\"QE_I09\"] = dados[\"QE_I09\"].astype(str)\n",
    "\n",
    "mapeamento_qe_i09 = {\n",
    "    \"A\": \"Não tenho renda e meus gastos são financiados por programas governamentais\",\n",
    "    \"B\": \"Não tenho renda e meus gastos são financiados pela minha família ou por outras pessoas\",\n",
    "    \"C\": \"Tenho renda, mas recebo ajuda da família ou de outras pessoas para financiar meus gastos\",\n",
    "    \"D\": \"Tenho renda e não preciso de ajuda para financiar meus gastos\",\n",
    "    \"E\": \"Tenho renda e contribuo com o sustento da família\",\n",
    "    \"F\": \"Sou o principal responsável pelo sustento da família\"\n",
    "}\n",
    "\n",
    "dados[\"QE_I09\"] = dados[\"QE_I09\"].map(mapeamento_qe_i09)\n",
    "\n",
    "contagem_qe_i09 = dados[\"QE_I09\"].value_counts()\n",
    "\n",
    "print(\"\\nContagem dos itens em QE_I09:\")\n",
    "print(contagem_qe_i09)\n",
    "\n",
    "dados.to_csv(nome_arquivo_saida, sep=';', index=False, decimal='.', na_rep='\"')\n"
   ]
  },
  {
   "cell_type": "markdown",
   "metadata": {},
   "source": [
    "## microdados2021_arq16\n",
    "QE10: Qual alternativa a seguir melhor descreve sua situação de trabalho (exceto estágio ou bolsas)?"
   ]
  },
  {
   "cell_type": "code",
   "execution_count": 8,
   "metadata": {},
   "outputs": [
    {
     "name": "stdout",
     "output_type": "stream",
     "text": [
      "\n",
      "Contagem dos itens em QE_I10:\n",
      "Trabalho 40 horas semanais ou mais    159415\n",
      "Não estou trabalhando                 120808\n",
      "Trabalho de 21 a 39 horas semanais     53434\n",
      "Trabalho eventualmente                 39016\n",
      "Trabalho até 20 horas semanais         36312\n",
      "Name: QE_I10, dtype: int64\n"
     ]
    }
   ],
   "source": [
    "import pandas as pd\n",
    "\n",
    "nome_arquivo_entrada = \"microdados_Enade_2021_LGPD/2.DADOS/microdados2021_arq16.txt\"  \n",
    "nome_arquivo_saida = \"testes_saidas/saida_teste16.txt\"\n",
    "colunas = [\"NU_ANO\", \"CO_CURSO\", \"QE_I10\"]  \n",
    "\n",
    "dados = pd.read_csv(nome_arquivo_entrada, sep=';', decimal='.', na_values='\"', usecols=colunas)\n",
    "\n",
    "dados[\"QE_I10\"] = dados[\"QE_I10\"].astype(str)\n",
    "\n",
    "mapeamento_qe_i10 = {\n",
    "    \"A\": \"Não estou trabalhando\",\n",
    "    \"B\": \"Trabalho eventualmente\",\n",
    "    \"C\": \"Trabalho até 20 horas semanais\",\n",
    "    \"D\": \"Trabalho de 21 a 39 horas semanais\",\n",
    "    \"E\": \"Trabalho 40 horas semanais ou mais\"\n",
    "}\n",
    "\n",
    "dados[\"QE_I10\"] = dados[\"QE_I10\"].map(mapeamento_qe_i10)\n",
    "\n",
    "contagem_qe_i10 = dados[\"QE_I10\"].value_counts()\n",
    "\n",
    "print(\"\\nContagem dos itens em QE_I10:\")\n",
    "print(contagem_qe_i10)\n",
    "\n",
    "dados.to_csv(nome_arquivo_saida, sep=';', index=False, decimal='.', na_rep='\"')\n"
   ]
  },
  {
   "cell_type": "markdown",
   "metadata": {},
   "source": [
    "## microdados2021_arq17\n",
    "QE11: Que tipo de bolsa de estudos ou financiamento do curso você recebeu para custear todas ou a maior parte das mensalidades? No caso de haver mais de uma opção, marcar apenas a bolsa de maior duração."
   ]
  },
  {
   "cell_type": "code",
   "execution_count": 9,
   "metadata": {},
   "outputs": [
    {
     "name": "stdout",
     "output_type": "stream",
     "text": [
      "\n",
      "Contagem dos itens em QE_I11:\n",
      "Nenhum, embora meu curso não seja gratuito                      158765\n",
      "Nenhum, pois meu curso é gratuito                               128043\n",
      "Bolsa oferecida pela própria instituição                         51640\n",
      "ProUni integral                                                  25120\n",
      "Bolsa oferecida por outra entidade (empresa, ONG, outra)         11620\n",
      "Financiamento oferecido pela própria instituição                  9755\n",
      "Bolsa oferecida por governo estadual, distrital ou municipal      9471\n",
      "ProUni parcial, apenas                                            6184\n",
      "FIES, apenas                                                      5019\n",
      "Financiamento bancário                                            2465\n",
      "ProUni Parcial e FIES                                              904\n",
      "Name: QE_I11, dtype: int64\n"
     ]
    }
   ],
   "source": [
    "import pandas as pd\n",
    "\n",
    "nome_arquivo_entrada = \"microdados_Enade_2021_LGPD/2.DADOS/microdados2021_arq17.txt\"  \n",
    "nome_arquivo_saida = \"testes_saidas/saida_teste17.txt\"\n",
    "colunas = [\"NU_ANO\", \"CO_CURSO\", \"QE_I11\"] \n",
    "\n",
    "dados = pd.read_csv(nome_arquivo_entrada, sep=';', decimal='.', na_values='\"', usecols=colunas)\n",
    "\n",
    "dados[\"QE_I11\"] = dados[\"QE_I11\"].astype(str)\n",
    "\n",
    "mapeamento_qe_i11 = {\n",
    "    \"A\": \"Nenhum, pois meu curso é gratuito\",\n",
    "    \"B\": \"Nenhum, embora meu curso não seja gratuito\",\n",
    "    \"C\": \"ProUni integral\",\n",
    "    \"D\": \"ProUni parcial, apenas\",\n",
    "    \"E\": \"FIES, apenas\",\n",
    "    \"F\": \"ProUni Parcial e FIES\",\n",
    "    \"G\": \"Bolsa oferecida por governo estadual, distrital ou municipal\",\n",
    "    \"H\": \"Bolsa oferecida pela própria instituição\",\n",
    "    \"I\": \"Bolsa oferecida por outra entidade (empresa, ONG, outra)\",\n",
    "    \"J\": \"Financiamento oferecido pela própria instituição\",\n",
    "    \"K\": \"Financiamento bancário\"\n",
    "}\n",
    "\n",
    "dados[\"QE_I11\"] = dados[\"QE_I11\"].map(mapeamento_qe_i11)\n",
    "\n",
    "contagem_qe_i11 = dados[\"QE_I11\"].value_counts()\n",
    "\n",
    "print(\"\\nContagem dos itens em QE_I11:\")\n",
    "print(contagem_qe_i11)\n",
    "\n",
    "dados.to_csv(nome_arquivo_saida, sep=';', index=False, decimal='.', na_rep='\"')\n"
   ]
  },
  {
   "cell_type": "markdown",
   "metadata": {},
   "source": [
    "## microdados2021_arq18\n",
    "QE12: Ao longo da sua trajetória acadêmica, você recebeu algum tipo de auxílio permanência? No caso de haver mais de uma opção, marcar apenas a bolsa de maior duração."
   ]
  },
  {
   "cell_type": "code",
   "execution_count": 11,
   "metadata": {},
   "outputs": [
    {
     "name": "stdout",
     "output_type": "stream",
     "text": [
      "\n",
      "Contagem dos itens em QE_I12:\n",
      "Nenhum                           365819\n",
      "Outro tipo de auxílio             16798\n",
      "Auxílio Permanência               11693\n",
      "Auxílio alimentação                7825\n",
      "Auxílio moradia e alimentação      3975\n",
      "Auxílio moradia                    2872\n",
      "Name: QE_I12, dtype: int64\n"
     ]
    }
   ],
   "source": [
    "import pandas as pd\n",
    "\n",
    "nome_arquivo_entrada = \"microdados_Enade_2021_LGPD/2.DADOS/microdados2021_arq18.txt\"  \n",
    "nome_arquivo_saida = \"testes_saidas/saida_teste18.txt\"\n",
    "colunas = [\"NU_ANO\", \"CO_CURSO\", \"QE_I12\"]  \n",
    "\n",
    "dados = pd.read_csv(nome_arquivo_entrada, sep=';', decimal='.', na_values='\"', usecols=colunas)\n",
    "\n",
    "dados[\"QE_I12\"] = dados[\"QE_I12\"].astype(str)\n",
    "\n",
    "mapeamento_qe_i12 = {\n",
    "    \"A\": \"Nenhum\",\n",
    "    \"B\": \"Auxílio moradia\",\n",
    "    \"C\": \"Auxílio alimentação\",\n",
    "    \"D\": \"Auxílio moradia e alimentação\",\n",
    "    \"E\": \"Auxílio Permanência\",\n",
    "    \"F\": \"Outro tipo de auxílio\"\n",
    "}\n",
    "\n",
    "dados[\"QE_I12\"] = dados[\"QE_I12\"].map(mapeamento_qe_i12)\n",
    "\n",
    "contagem_qe_i12 = dados[\"QE_I12\"].value_counts()\n",
    "\n",
    "print(\"\\nContagem dos itens em QE_I12:\")\n",
    "print(contagem_qe_i12)\n",
    "\n",
    "dados.to_csv(nome_arquivo_saida, sep=';', index=False, decimal='.', na_rep='\"')\n"
   ]
  },
  {
   "cell_type": "markdown",
   "metadata": {},
   "source": [
    "## microdados2021_arq19\n",
    "QE 13: Ao longo da sua trajetória acadêmica, você recebeu algum tipo de bolsa acadêmica? No caso de haver mais de uma opção, marcar apenas a bolsa de maior duração."
   ]
  },
  {
   "cell_type": "code",
   "execution_count": 12,
   "metadata": {},
   "outputs": [
    {
     "name": "stdout",
     "output_type": "stream",
     "text": [
      "\n",
      "Contagem dos itens em QE_I13:\n",
      "Nenhum                           316719\n",
      "Outro tipo de bolsa acadêmica     40646\n",
      "Bolsa de iniciação científica     25692\n",
      "Bolsa de extensão                 14018\n",
      "Bolsa de monitoria/tutoria         9455\n",
      "Bolsa PET                          2452\n",
      "Name: QE_I13, dtype: int64\n"
     ]
    }
   ],
   "source": [
    "import pandas as pd\n",
    "\n",
    "nome_arquivo_entrada = \"microdados_Enade_2021_LGPD/2.DADOS/microdados2021_arq19.txt\"  \n",
    "nome_arquivo_saida = \"testes_saidas/saida_teste19.txt\"\n",
    "colunas = [\"NU_ANO\", \"CO_CURSO\", \"QE_I13\"]  \n",
    "\n",
    "dados = pd.read_csv(nome_arquivo_entrada, sep=';', decimal='.', na_values='\"', usecols=colunas)\n",
    "\n",
    "dados[\"QE_I13\"] = dados[\"QE_I13\"].astype(str)\n",
    "\n",
    "mapeamento_qe_i13 = {\n",
    "    \"A\": \"Nenhum\",\n",
    "    \"B\": \"Bolsa de iniciação científica\",\n",
    "    \"C\": \"Bolsa de extensão\",\n",
    "    \"D\": \"Bolsa de monitoria/tutoria\",\n",
    "    \"E\": \"Bolsa PET\",\n",
    "    \"F\": \"Outro tipo de bolsa acadêmica\"\n",
    "}\n",
    "\n",
    "dados[\"QE_I13\"] = dados[\"QE_I13\"].map(mapeamento_qe_i13)\n",
    "\n",
    "contagem_qe_i13 = dados[\"QE_I13\"].value_counts()\n",
    "\n",
    "print(\"\\nContagem dos itens em QE_I13:\")\n",
    "print(contagem_qe_i13)\n",
    "\n",
    "dados.to_csv(nome_arquivo_saida, sep=';', index=False, decimal='.', na_rep='\"')\n"
   ]
  },
  {
   "cell_type": "markdown",
   "metadata": {},
   "source": [
    "## microdados2021_arq20\n",
    "QE14: Durante o curso de graduação você participou de programas e/ou atividades curriculares no exterior?"
   ]
  },
  {
   "cell_type": "code",
   "execution_count": 15,
   "metadata": {},
   "outputs": [
    {
     "name": "stdout",
     "output_type": "stream",
     "text": [
      "\n",
      "Contagem dos itens em QE_I14:\n",
      "Não participei                                                                                404525\n",
      "Sim, programa de intercâmbio da minha instituição                                               1832\n",
      "Sim, outro intercâmbio não institucional                                                        1586\n",
      "Sim, Programa Ciência sem Fronteiras                                                             571\n",
      "Sim, programa de intercâmbio financiado pelo Governo Federal (Marca; Brafitec; PLI; outro)       277\n",
      "Sim, programa de intercâmbio financiado pelo Governo Estadual                                    192\n",
      "Name: QE_I14, dtype: int64\n"
     ]
    }
   ],
   "source": [
    "import pandas as pd\n",
    "\n",
    "nome_arquivo_entrada = \"microdados_Enade_2021_LGPD/2.DADOS/microdados2021_arq20.txt\"  \n",
    "nome_arquivo_saida = \"testes_saidas/saida_teste20.txt\"\n",
    "colunas = [\"NU_ANO\", \"CO_CURSO\", \"QE_I14\"]  \n",
    "\n",
    "dados = pd.read_csv(nome_arquivo_entrada, sep=';', decimal='.', na_values='\"', usecols=colunas)\n",
    "\n",
    "dados[\"QE_I14\"] = dados[\"QE_I14\"].astype(str)\n",
    "\n",
    "mapeamento_qe_i14 = {\n",
    "    \"A\": \"Não participei\",\n",
    "    \"B\": \"Sim, Programa Ciência sem Fronteiras\",\n",
    "    \"C\": \"Sim, programa de intercâmbio financiado pelo Governo Federal (Marca; Brafitec; PLI; outro)\",\n",
    "    \"D\": \"Sim, programa de intercâmbio financiado pelo Governo Estadual\",\n",
    "    \"E\": \"Sim, programa de intercâmbio da minha instituição\",\n",
    "    \"F\": \"Sim, outro intercâmbio não institucional\"\n",
    "}\n",
    "\n",
    "dados[\"QE_I14\"] = dados[\"QE_I14\"].map(mapeamento_qe_i14)\n",
    "\n",
    "contagem_qe_i14 = dados[\"QE_I14\"].value_counts()\n",
    "\n",
    "print(\"\\nContagem dos itens em QE_I14:\")\n",
    "print(contagem_qe_i14)\n",
    "\n",
    "dados.to_csv(nome_arquivo_saida, sep=';', index=False, decimal='.', na_rep='\"')\n"
   ]
  },
  {
   "cell_type": "markdown",
   "metadata": {},
   "source": [
    "## microdados2021_arq21\n",
    "QE15: Seu ingresso no curso de graduação se deu por meio de políticas de ação afirmativa ou inclusão social?"
   ]
  },
  {
   "cell_type": "code",
   "execution_count": 19,
   "metadata": {},
   "outputs": [
    {
     "name": "stdout",
     "output_type": "stream",
     "text": [
      "\n",
      "Contagem dos itens em QE_I15:\n",
      "Não                                                                           316680\n",
      "Sim, por ter estudado em escola pública ou particular com bolsa de estudos     31883\n",
      "Sim, por critério de renda                                                     21356\n",
      "Sim, por sistema que combina dois ou mais critérios anteriores                 20217\n",
      "Sim, por critério étnico-racial                                                11227\n",
      "Sim, por sistema diferente dos anteriores                                       7616\n",
      "Name: QE_I15, dtype: int64\n"
     ]
    }
   ],
   "source": [
    "import pandas as pd\n",
    "\n",
    "nome_arquivo_entrada = \"microdados_Enade_2021_LGPD/2.DADOS/microdados2021_arq21.txt\"  \n",
    "nome_arquivo_saida = \"testes_saidas/saida_teste21.txt\"\n",
    "colunas = [\"NU_ANO\", \"CO_CURSO\", \"QE_I15\"] \n",
    "\n",
    "dados = pd.read_csv(nome_arquivo_entrada, sep=';', decimal='.', na_values='\"', usecols=colunas)\n",
    "\n",
    "dados[\"QE_I15\"] = dados[\"QE_I15\"].astype(str)\n",
    "\n",
    "mapeamento_qe_i15 = {\n",
    "    \"A\": \"Não\",\n",
    "    \"B\": \"Sim, por critério étnico-racial\",\n",
    "    \"C\": \"Sim, por critério de renda\",\n",
    "    \"D\": \"Sim, por ter estudado em escola pública ou particular com bolsa de estudos\",\n",
    "    \"E\": \"Sim, por sistema que combina dois ou mais critérios anteriores\",\n",
    "    \"F\": \"Sim, por sistema diferente dos anteriores\"\n",
    "}\n",
    "\n",
    "dados[\"QE_I15\"] = dados[\"QE_I15\"].map(mapeamento_qe_i15)\n",
    "\n",
    "contagem_qe_i15 = dados[\"QE_I15\"].value_counts()\n",
    "\n",
    "print(\"\\nContagem dos itens em QE_I15:\")\n",
    "print(contagem_qe_i15)\n",
    "\n",
    "dados.to_csv(nome_arquivo_saida, sep=';', index=False, decimal='.', na_rep='\"')\n"
   ]
  },
  {
   "cell_type": "markdown",
   "metadata": {},
   "source": [
    "## microdados2021_arq22\n",
    "QE16: Em que unidade da Federação você concluiu o ensino médio?"
   ]
  },
  {
   "cell_type": "code",
   "execution_count": 9,
   "metadata": {},
   "outputs": [
    {
     "name": "stdout",
     "output_type": "stream",
     "text": [
      "\n",
      "Contagem dos itens em QE_I16:\n",
      "São Paulo (SP)              92058\n",
      "Minas Gerais (MG)           41442\n",
      "Rio de Janeiro (RJ)         32452\n",
      "Paraná (PR)                 29095\n",
      "Rio Grande do Sul (RS)      24764\n",
      "Bahia (BA)                  21706\n",
      "Pará (PA)                   17791\n",
      "Pernambuco (PE)             15823\n",
      "Santa Catarina (SC)         14925\n",
      "Ceará (CE)                  14382\n",
      "Goiás (GO)                  12549\n",
      "Maranhão (MA)               11477\n",
      "Distrito Federal (DF)        8379\n",
      "Espírito Santo (ES)          7778\n",
      "Paraíba (PB)                 7513\n",
      "Alagoas (AL)                 7250\n",
      "Piauí (PI)                   6856\n",
      "Mato Grosso (MT)             6504\n",
      "Amazonas (AM)                6500\n",
      "Mato Grosso do Sul (MS)      6224\n",
      "Rio Grande do Norte (RN)     5685\n",
      "Rondônia (RO)                3803\n",
      "Sergipe (SE)                 3674\n",
      "Tocantins (TO)               2984\n",
      "Acre (AC)                    2359\n",
      "Amapá (AP)                   2029\n",
      "Não se aplica                1688\n",
      "Roraima (RR)                 1293\n",
      "Name: QE_I16, dtype: int64\n"
     ]
    }
   ],
   "source": [
    "import pandas as pd\n",
    "\n",
    "nome_arquivo_entrada = \"microdados_Enade_2021_LGPD/2.DADOS/microdados2021_arq22.txt\"  \n",
    "nome_arquivo_saida = \"testes_saidas/saida_teste22.txt\"\n",
    "colunas = [\"NU_ANO\", \"CO_CURSO\", \"QE_I16\"]  \n",
    "\n",
    "dados = pd.read_csv(nome_arquivo_entrada, sep=';', decimal='.', na_values='\"', usecols=colunas)\n",
    "\n",
    "mapeamento_qe_i16 = {\n",
    "    11: \"Rondônia (RO)\",\n",
    "    12: \"Acre (AC)\",\n",
    "    13: \"Amazonas (AM)\",\n",
    "    14: \"Roraima (RR)\",\n",
    "    15: \"Pará (PA)\",\n",
    "    16: \"Amapá (AP)\",\n",
    "    17: \"Tocantins (TO)\",\n",
    "    21: \"Maranhão (MA)\",\n",
    "    22: \"Piauí (PI)\",\n",
    "    23: \"Ceará (CE)\",\n",
    "    24: \"Rio Grande do Norte (RN)\",\n",
    "    25: \"Paraíba (PB)\",\n",
    "    26: \"Pernambuco (PE)\",\n",
    "    27: \"Alagoas (AL)\",\n",
    "    28: \"Sergipe (SE)\",\n",
    "    29: \"Bahia (BA)\",\n",
    "    31: \"Minas Gerais (MG)\",\n",
    "    32: \"Espírito Santo (ES)\",\n",
    "    33: \"Rio de Janeiro (RJ)\",\n",
    "    35: \"São Paulo (SP)\",\n",
    "    41: \"Paraná (PR)\",\n",
    "    42: \"Santa Catarina (SC)\",\n",
    "    43: \"Rio Grande do Sul (RS)\",\n",
    "    50: \"Mato Grosso do Sul (MS)\",\n",
    "    51: \"Mato Grosso (MT)\",\n",
    "    52: \"Goiás (GO)\",\n",
    "    53: \"Distrito Federal (DF)\",\n",
    "    99: \"Não se aplica\"\n",
    "}\n",
    "\n",
    "dados[\"QE_I16\"] = dados[\"QE_I16\"].map(mapeamento_qe_i16)\n",
    "\n",
    "contagem_qe_i16 = dados[\"QE_I16\"].value_counts()\n",
    "\n",
    "print(\"\\nContagem dos itens em QE_I16:\")\n",
    "print(contagem_qe_i16)\n",
    "\n",
    "dados.to_csv(nome_arquivo_saida, sep=';', index=False, decimal='.', na_rep='\"')\n"
   ]
  },
  {
   "cell_type": "markdown",
   "metadata": {},
   "source": [
    "## microdados2021_arq23\n",
    "QE17: Em que tipo de escola você cursou o ensino médio?"
   ]
  },
  {
   "cell_type": "code",
   "execution_count": 1,
   "metadata": {},
   "outputs": [
    {
     "name": "stdout",
     "output_type": "stream",
     "text": [
      "\n",
      "Contagem dos itens em QE_I17:\n",
      "Todo em escola pública                          320897\n",
      "Todo em escola privada (particular)              59656\n",
      "A maior parte em escola pública                  16192\n",
      "A maior parte em escola privada (particular)     11479\n",
      "Parte no Brasil e parte no exterior                441\n",
      "Todo no exterior                                   316\n",
      "Name: QE_I17, dtype: int64\n"
     ]
    }
   ],
   "source": [
    "import pandas as pd\n",
    "\n",
    "\n",
    "nome_arquivo_entrada = \"microdados_Enade_2021_LGPD/2.DADOS/microdados2021_arq23.txt\"\n",
    "nome_arquivo_saida = \"testes_saidas/saida_teste23.txt\"\n",
    "\n",
    "\n",
    "colunas = [\"NU_ANO\", \"CO_CURSO\", \"QE_I17\"]\n",
    "\n",
    "dados = pd.read_csv(nome_arquivo_entrada, sep=';', decimal='.', na_values='\"', usecols=colunas)\n",
    "\n",
    "\n",
    "mapeamento_qe_i17 = {\n",
    "    \"A\": \"Todo em escola pública\",\n",
    "    \"B\": \"Todo em escola privada (particular)\",\n",
    "    \"C\": \"Todo no exterior\",\n",
    "    \"D\": \"A maior parte em escola pública\",\n",
    "    \"E\": \"A maior parte em escola privada (particular)\",\n",
    "    \"F\": \"Parte no Brasil e parte no exterior\"\n",
    "}\n",
    "\n",
    "dados[\"QE_I17\"] = dados[\"QE_I17\"].map(mapeamento_qe_i17)\n",
    "contagem_qe_i17 = dados[\"QE_I17\"].value_counts()\n",
    "\n",
    "\n",
    "print(\"\\nContagem dos itens em QE_I17:\")\n",
    "print(contagem_qe_i17)\n",
    "\n",
    "dados.to_csv(nome_arquivo_saida, sep=';', index=False, decimal='.', na_rep='\"')\n"
   ]
  },
  {
   "cell_type": "markdown",
   "metadata": {},
   "source": [
    "## microdados2021_arq24\n",
    "QE18: Qual modalidade de ensino médio você concluiu?"
   ]
  },
  {
   "cell_type": "code",
   "execution_count": 3,
   "metadata": {},
   "outputs": [
    {
     "name": "stdout",
     "output_type": "stream",
     "text": [
      "\n",
      "Contagem dos itens em QE_I18:\n",
      "Ensino médio tradicional                                                   314090\n",
      "Educação de Jovens e Adultos (EJA) e/ou Supletivo                           34004\n",
      "Profissionalizante técnico (eletrônica, contabilidade, agrícola, outro)     31516\n",
      "Profissionalizante magistério (Curso Normal)                                23706\n",
      "Outra modalidade                                                             5662\n",
      "Name: QE_I18, dtype: int64\n"
     ]
    }
   ],
   "source": [
    "import pandas as pd\n",
    "\n",
    "nome_arquivo_entrada = \"microdados_Enade_2021_LGPD/2.DADOS/microdados2021_arq24.txt\"\n",
    "nome_arquivo_saida = \"testes_saidas/saida_teste24.txt\"\n",
    "colunas = [\"NU_ANO\", \"CO_CURSO\", \"QE_I18\"]\n",
    "\n",
    "dados = pd.read_csv(nome_arquivo_entrada, sep=';', decimal='.', na_values='\"', usecols=colunas)\n",
    "\n",
    "dados[\"QE_I18\"] = dados[\"QE_I18\"].astype(str)\n",
    "\n",
    "mapeamento_qe_i18 = {\n",
    "    \"A\": \"Ensino médio tradicional\",\n",
    "    \"B\": \"Profissionalizante técnico (eletrônica, contabilidade, agrícola, outro)\",\n",
    "    \"C\": \"Profissionalizante magistério (Curso Normal)\",\n",
    "    \"D\": \"Educação de Jovens e Adultos (EJA) e/ou Supletivo\",\n",
    "    \"E\": \"Outra modalidade\"\n",
    "}\n",
    "\n",
    "dados[\"QE_I18\"] = dados[\"QE_I18\"].map(mapeamento_qe_i18)\n",
    "\n",
    "contagem_qe_i18 = dados[\"QE_I18\"].value_counts()\n",
    "\n",
    "print(\"\\nContagem dos itens em QE_I18:\")\n",
    "print(contagem_qe_i18)\n",
    "\n",
    "dados.to_csv(nome_arquivo_saida, sep=';', index=False, decimal='.', na_rep='\"')\n"
   ]
  },
  {
   "cell_type": "markdown",
   "metadata": {},
   "source": [
    "## microdados2021_arq25\n",
    "QE19: Quem lhe deu maior incentivo para cursar a graduação?"
   ]
  },
  {
   "cell_type": "code",
   "execution_count": 4,
   "metadata": {},
   "outputs": [
    {
     "name": "stdout",
     "output_type": "stream",
     "text": [
      "\n",
      "Contagem dos itens em QE_I19:\n",
      "Pais                                         209219\n",
      "Ninguém                                       80786\n",
      "Outros membros da família que não os pais     51249\n",
      "Colegas/Amigos                                29001\n",
      "Professores                                   18932\n",
      "Outras pessoas                                17879\n",
      "Líder ou representante religioso               1914\n",
      "Name: QE_I19, dtype: int64\n"
     ]
    }
   ],
   "source": [
    "import pandas as pd\n",
    "\n",
    "nome_arquivo_entrada = \"microdados_Enade_2021_LGPD/2.DADOS/microdados2021_arq25.txt\"\n",
    "nome_arquivo_saida = \"testes_saidas/saida_teste25.txt\"\n",
    "colunas = [\"NU_ANO\", \"CO_CURSO\", \"QE_I19\"]\n",
    "\n",
    "dados = pd.read_csv(nome_arquivo_entrada, sep=';', decimal='.', na_values='\"', usecols=colunas)\n",
    "\n",
    "dados[\"QE_I19\"] = dados[\"QE_I19\"].astype(str)\n",
    "\n",
    "mapeamento_qe_i19 = {\n",
    "    \"A\": \"Ninguém\",\n",
    "    \"B\": \"Pais\",\n",
    "    \"C\": \"Outros membros da família que não os pais\",\n",
    "    \"D\": \"Professores\",\n",
    "    \"E\": \"Líder ou representante religioso\",\n",
    "    \"F\": \"Colegas/Amigos\",\n",
    "    \"G\": \"Outras pessoas\"\n",
    "}\n",
    "\n",
    "dados[\"QE_I19\"] = dados[\"QE_I19\"].map(mapeamento_qe_i19)\n",
    "\n",
    "contagem_qe_i19 = dados[\"QE_I19\"].value_counts()\n",
    "\n",
    "print(\"\\nContagem dos itens em QE_I19:\")\n",
    "print(contagem_qe_i19)\n",
    "\n",
    "dados.to_csv(nome_arquivo_saida, sep=';', index=False, decimal='.', na_rep='\"')\n"
   ]
  },
  {
   "cell_type": "markdown",
   "metadata": {},
   "source": [
    "## microdados2021_arq26\n",
    "QE20: Algum dos grupos abaixo foi determinante para você enfrentar dificuldades durante seu curso superior e concluí-lo?"
   ]
  },
  {
   "cell_type": "code",
   "execution_count": 5,
   "metadata": {},
   "outputs": [
    {
     "name": "stdout",
     "output_type": "stream",
     "text": [
      "\n",
      "Contagem dos itens em QE_I20:\n",
      "Não tive dificuldade                                     125361\n",
      "Pais                                                     116024\n",
      "Colegas de curso ou amigos                                46028\n",
      "Outro grupo                                               40520\n",
      "Não recebi apoio para enfrentar dificuldades              36095\n",
      "Professores do curso                                      18134\n",
      "Irmãos, primos ou tios                                    11380\n",
      "Colegas de trabalho                                        6928\n",
      "Avós                                                       5200\n",
      "Líder ou representante religioso                           1673\n",
      "Profissionais do serviço de apoio ao estudante da IES      1637\n",
      "Name: QE_I20, dtype: int64\n"
     ]
    }
   ],
   "source": [
    "import pandas as pd\n",
    "\n",
    "nome_arquivo_entrada = \"microdados_Enade_2021_LGPD/2.DADOS/microdados2021_arq26.txt\"\n",
    "nome_arquivo_saida = \"testes_saidas/saida_teste26.txt\"\n",
    "colunas = [\"NU_ANO\", \"CO_CURSO\", \"QE_I20\"]\n",
    "\n",
    "dados = pd.read_csv(nome_arquivo_entrada, sep=';', decimal='.', na_values='\"', usecols=colunas)\n",
    "\n",
    "dados[\"QE_I20\"] = dados[\"QE_I20\"].astype(str)\n",
    "\n",
    "mapeamento_qe_i20 = {\n",
    "    \"A\": \"Não tive dificuldade\",\n",
    "    \"B\": \"Não recebi apoio para enfrentar dificuldades\",\n",
    "    \"C\": \"Pais\",\n",
    "    \"D\": \"Avós\",\n",
    "    \"E\": \"Irmãos, primos ou tios\",\n",
    "    \"F\": \"Líder ou representante religioso\",\n",
    "    \"G\": \"Colegas de curso ou amigos\",\n",
    "    \"H\": \"Professores do curso\",\n",
    "    \"I\": \"Profissionais do serviço de apoio ao estudante da IES\",\n",
    "    \"J\": \"Colegas de trabalho\",\n",
    "    \"K\": \"Outro grupo\"\n",
    "}\n",
    "\n",
    "dados[\"QE_I20\"] = dados[\"QE_I20\"].map(mapeamento_qe_i20)\n",
    "\n",
    "contagem_qe_i20 = dados[\"QE_I20\"].value_counts()\n",
    "\n",
    "print(\"\\nContagem dos itens em QE_I20:\")\n",
    "print(contagem_qe_i20)\n",
    "\n",
    "dados.to_csv(nome_arquivo_saida, sep=';', index=False, decimal='.', na_rep='\"')\n"
   ]
  },
  {
   "cell_type": "markdown",
   "metadata": {},
   "source": [
    "## microdados2021_arq27\n",
    "QE21: Alguém em sua família concluiu um curso superior?"
   ]
  },
  {
   "cell_type": "code",
   "execution_count": 6,
   "metadata": {},
   "outputs": [
    {
     "name": "stdout",
     "output_type": "stream",
     "text": [
      "\n",
      "Contagem dos itens em QE_I21:\n",
      "Sim    257775\n",
      "Não    151205\n",
      "Name: QE_I21, dtype: int64\n"
     ]
    }
   ],
   "source": [
    "import pandas as pd\n",
    "\n",
    "nome_arquivo_entrada = \"microdados_Enade_2021_LGPD/2.DADOS/microdados2021_arq27.txt\"\n",
    "nome_arquivo_saida = \"testes_saidas/saida_teste27.txt\"\n",
    "colunas = [\"NU_ANO\", \"CO_CURSO\", \"QE_I21\"]\n",
    "\n",
    "dados = pd.read_csv(nome_arquivo_entrada, sep=';', decimal='.', na_values='\"', usecols=colunas)\n",
    "\n",
    "dados[\"QE_I21\"] = dados[\"QE_I21\"].astype(str)\n",
    "\n",
    "mapeamento_qe_i21 = {\n",
    "    \"A\": \"Sim\",\n",
    "    \"B\": \"Não\"\n",
    "}\n",
    "\n",
    "dados[\"QE_I21\"] = dados[\"QE_I21\"].map(mapeamento_qe_i21)\n",
    "\n",
    "contagem_qe_i21 = dados[\"QE_I21\"].value_counts()\n",
    "\n",
    "print(\"\\nContagem dos itens em QE_I21:\")\n",
    "print(contagem_qe_i21)\n",
    "\n",
    "dados.to_csv(nome_arquivo_saida, sep=';', index=False, decimal='.', na_rep='\"')\n"
   ]
  },
  {
   "cell_type": "markdown",
   "metadata": {},
   "source": [
    "## microdados2021_arq28\n",
    "QE22: Excetuando-se os livros indicados na bibliografia do seu curso, quantos livros você leu neste ano?"
   ]
  },
  {
   "cell_type": "code",
   "execution_count": 7,
   "metadata": {},
   "outputs": [
    {
     "name": "stdout",
     "output_type": "stream",
     "text": [
      "\n",
      "Contagem dos itens em QE_I22:\n",
      "Um ou dois         151812\n",
      "De três a cinco    116892\n",
      "Nenhum              58313\n",
      "Mais de oito        46324\n",
      "De seis a oito      35637\n",
      "Name: QE_I22, dtype: int64\n"
     ]
    }
   ],
   "source": [
    "import pandas as pd\n",
    "\n",
    "nome_arquivo_entrada = \"microdados_Enade_2021_LGPD/2.DADOS/microdados2021_arq28.txt\"\n",
    "nome_arquivo_saida = \"testes_saidas/saida_teste28.txt\"\n",
    "colunas = [\"NU_ANO\", \"CO_CURSO\", \"QE_I22\"]\n",
    "\n",
    "dados = pd.read_csv(nome_arquivo_entrada, sep=';', decimal='.', na_values='\"', usecols=colunas)\n",
    "\n",
    "dados[\"QE_I22\"] = dados[\"QE_I22\"].astype(str)\n",
    "\n",
    "mapeamento_qe_i22 = {\n",
    "    \"A\": \"Nenhum\",\n",
    "    \"B\": \"Um ou dois\",\n",
    "    \"C\": \"De três a cinco\",\n",
    "    \"D\": \"De seis a oito\",\n",
    "    \"E\": \"Mais de oito\"\n",
    "}\n",
    "\n",
    "dados[\"QE_I22\"] = dados[\"QE_I22\"].map(mapeamento_qe_i22)\n",
    "\n",
    "contagem_qe_i22 = dados[\"QE_I22\"].value_counts()\n",
    "\n",
    "print(\"\\nContagem dos itens em QE_I22:\")\n",
    "print(contagem_qe_i22)\n",
    "\n",
    "dados.to_csv(nome_arquivo_saida, sep=';', index=False, decimal='.', na_rep='\"')\n"
   ]
  },
  {
   "cell_type": "markdown",
   "metadata": {},
   "source": [
    "## microdados2021_arq29\n",
    "QE23: Quantas horas por semana, aproximadamente, você dedicou aos estudos, excetuando as horas de aula?"
   ]
  },
  {
   "cell_type": "code",
   "execution_count": 8,
   "metadata": {},
   "outputs": [
    {
     "name": "stdout",
     "output_type": "stream",
     "text": [
      "\n",
      "Contagem dos itens em QE_I23:\n",
      "De uma a três                       188802\n",
      "De quatro a sete                    119991\n",
      "De oito a doze                       45401\n",
      "Mais de doze                         32454\n",
      "Nenhuma, apenas assisto às aulas     22329\n",
      "Name: QE_I23, dtype: int64\n"
     ]
    }
   ],
   "source": [
    "import pandas as pd\n",
    "\n",
    "nome_arquivo_entrada = \"microdados_Enade_2021_LGPD/2.DADOS/microdados2021_arq29.txt\"\n",
    "nome_arquivo_saida = \"testes_saidas/saida_teste29.txt\"\n",
    "colunas = [\"NU_ANO\", \"CO_CURSO\", \"QE_I23\"]\n",
    "\n",
    "dados = pd.read_csv(nome_arquivo_entrada, sep=';', decimal='.', na_values='\"', usecols=colunas)\n",
    "\n",
    "dados[\"QE_I23\"] = dados[\"QE_I23\"].astype(str)\n",
    "\n",
    "mapeamento_qe_i23 = {\n",
    "    \"A\": \"Nenhuma, apenas assisto às aulas\",\n",
    "    \"B\": \"De uma a três\",\n",
    "    \"C\": \"De quatro a sete\",\n",
    "    \"D\": \"De oito a doze\",\n",
    "    \"E\": \"Mais de doze\"\n",
    "}\n",
    "\n",
    "dados[\"QE_I23\"] = dados[\"QE_I23\"].map(mapeamento_qe_i23)\n",
    "\n",
    "contagem_qe_i23 = dados[\"QE_I23\"].value_counts()\n",
    "\n",
    "print(\"\\nContagem dos itens em QE_I23:\")\n",
    "print(contagem_qe_i23)\n",
    "\n",
    "dados.to_csv(nome_arquivo_saida, sep=';', index=False, decimal='.', na_rep='\"')\n"
   ]
  },
  {
   "cell_type": "markdown",
   "metadata": {},
   "source": [
    "## microdados2021_arq30\n",
    "QE24: Você teve oportunidade de aprendizado de idioma estrangeiro na Instituição?"
   ]
  },
  {
   "cell_type": "code",
   "execution_count": 9,
   "metadata": {},
   "outputs": [
    {
     "name": "stdout",
     "output_type": "stream",
     "text": [
      "\n",
      "Contagem dos itens em QE_I24:\n",
      "Não                                                                         297354\n",
      "Sim, na modalidade a distância                                               50322\n",
      "Sim, somente na modalidade presencial                                        41315\n",
      "Sim, parte na modalidade presencial e parte na modalidade semipresencial     15912\n",
      "Sim, somente na modalidade semipresencial                                     4071\n",
      "Name: QE_I24, dtype: int64\n"
     ]
    }
   ],
   "source": [
    "import pandas as pd\n",
    "\n",
    "nome_arquivo_entrada = \"microdados_Enade_2021_LGPD/2.DADOS/microdados2021_arq30.txt\"\n",
    "nome_arquivo_saida = \"testes_saidas/saida_teste30.txt\"\n",
    "colunas = [\"NU_ANO\", \"CO_CURSO\", \"QE_I24\"]\n",
    "\n",
    "dados = pd.read_csv(nome_arquivo_entrada, sep=';', decimal='.', na_values='\"', usecols=colunas)\n",
    "\n",
    "dados[\"QE_I24\"] = dados[\"QE_I24\"].astype(str)\n",
    "\n",
    "mapeamento_qe_i24 = {\n",
    "    \"A\": \"Sim, somente na modalidade presencial\",\n",
    "    \"B\": \"Sim, somente na modalidade semipresencial\",\n",
    "    \"C\": \"Sim, parte na modalidade presencial e parte na modalidade semipresencial\",\n",
    "    \"D\": \"Sim, na modalidade a distância\",\n",
    "    \"E\": \"Não\"\n",
    "}\n",
    "\n",
    "dados[\"QE_I24\"] = dados[\"QE_I24\"].map(mapeamento_qe_i24)\n",
    "\n",
    "contagem_qe_i24 = dados[\"QE_I24\"].value_counts()\n",
    "\n",
    "print(\"\\nContagem dos itens em QE_I24:\")\n",
    "print(contagem_qe_i24)\n",
    "\n",
    "dados.to_csv(nome_arquivo_saida, sep=';', index=False, decimal='.', na_rep='\"')\n"
   ]
  }
 ],
 "metadata": {
  "kernelspec": {
   "display_name": "Python 3",
   "language": "python",
   "name": "python3"
  },
  "language_info": {
   "codemirror_mode": {
    "name": "ipython",
    "version": 3
   },
   "file_extension": ".py",
   "mimetype": "text/x-python",
   "name": "python",
   "nbconvert_exporter": "python",
   "pygments_lexer": "ipython3",
   "version": "3.7.5"
  },
  "orig_nbformat": 4
 },
 "nbformat": 4,
 "nbformat_minor": 2
}
